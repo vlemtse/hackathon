{
 "cells": [
  {
   "cell_type": "code",
   "id": "initial_id",
   "metadata": {
    "collapsed": true,
    "ExecuteTime": {
     "end_time": "2024-12-16T19:09:21.321622Z",
     "start_time": "2024-12-16T19:09:21.319273Z"
    }
   },
   "source": [
    "import numpy as np\n",
    "import pandas as pd\n",
    "import torch"
   ],
   "outputs": [],
   "execution_count": 27
  },
  {
   "metadata": {
    "ExecuteTime": {
     "end_time": "2024-12-16T19:21:34.702799Z",
     "start_time": "2024-12-16T19:21:34.521165Z"
    }
   },
   "cell_type": "code",
   "source": [
    "dtype = {\n",
    "    'datetime': 'string',\n",
    "    'T': 'float32',\n",
    "    'RRR': 'float32',\n",
    "}\n",
    "data = pd.read_csv('data/weather.csv', sep=';', usecols=[1, 23])\n",
    "data['date_time'] = data.index\n",
    "data.reset_index(drop=True, inplace=True)"
   ],
   "id": "631adb88eba34778",
   "outputs": [],
   "execution_count": 67
  },
  {
   "metadata": {},
   "cell_type": "markdown",
   "source": [
    "T - температура\n",
    "\n",
    "RRR - кол-во осадков"
   ],
   "id": "35887bb8b16e061c"
  },
  {
   "metadata": {
    "ExecuteTime": {
     "end_time": "2024-12-16T19:50:52.647606Z",
     "start_time": "2024-12-16T19:50:52.641093Z"
    }
   },
   "cell_type": "code",
   "source": [
    "data['RRR'] = data['RRR'].fillna(0.0)\n",
    "data"
   ],
   "id": "7d4eef0df7eb12ca",
   "outputs": [
    {
     "data": {
      "text/plain": [
       "         T  RRR         date_time\n",
       "0     -1.3  3.0  16.12.2024 21:00\n",
       "1     -2.0  2.0  16.12.2024 18:00\n",
       "2     -1.3    0  16.12.2024 15:00\n",
       "3     -1.0    0  16.12.2024 12:00\n",
       "4     -0.9  0.4  16.12.2024 09:00\n",
       "...    ...  ...               ...\n",
       "67385 -6.6    0  01.02.2005 15:00\n",
       "67386 -7.1    0  01.02.2005 12:00\n",
       "67387 -8.6  3.0  01.02.2005 09:00\n",
       "67388 -8.2  2.0  01.02.2005 06:00\n",
       "67389 -8.6    0  01.02.2005 03:00\n",
       "\n",
       "[67390 rows x 3 columns]"
      ],
      "text/html": [
       "<div>\n",
       "<style scoped>\n",
       "    .dataframe tbody tr th:only-of-type {\n",
       "        vertical-align: middle;\n",
       "    }\n",
       "\n",
       "    .dataframe tbody tr th {\n",
       "        vertical-align: top;\n",
       "    }\n",
       "\n",
       "    .dataframe thead th {\n",
       "        text-align: right;\n",
       "    }\n",
       "</style>\n",
       "<table border=\"1\" class=\"dataframe\">\n",
       "  <thead>\n",
       "    <tr style=\"text-align: right;\">\n",
       "      <th></th>\n",
       "      <th>T</th>\n",
       "      <th>RRR</th>\n",
       "      <th>date_time</th>\n",
       "    </tr>\n",
       "  </thead>\n",
       "  <tbody>\n",
       "    <tr>\n",
       "      <th>0</th>\n",
       "      <td>-1.3</td>\n",
       "      <td>3.0</td>\n",
       "      <td>16.12.2024 21:00</td>\n",
       "    </tr>\n",
       "    <tr>\n",
       "      <th>1</th>\n",
       "      <td>-2.0</td>\n",
       "      <td>2.0</td>\n",
       "      <td>16.12.2024 18:00</td>\n",
       "    </tr>\n",
       "    <tr>\n",
       "      <th>2</th>\n",
       "      <td>-1.3</td>\n",
       "      <td>0</td>\n",
       "      <td>16.12.2024 15:00</td>\n",
       "    </tr>\n",
       "    <tr>\n",
       "      <th>3</th>\n",
       "      <td>-1.0</td>\n",
       "      <td>0</td>\n",
       "      <td>16.12.2024 12:00</td>\n",
       "    </tr>\n",
       "    <tr>\n",
       "      <th>4</th>\n",
       "      <td>-0.9</td>\n",
       "      <td>0.4</td>\n",
       "      <td>16.12.2024 09:00</td>\n",
       "    </tr>\n",
       "    <tr>\n",
       "      <th>...</th>\n",
       "      <td>...</td>\n",
       "      <td>...</td>\n",
       "      <td>...</td>\n",
       "    </tr>\n",
       "    <tr>\n",
       "      <th>67385</th>\n",
       "      <td>-6.6</td>\n",
       "      <td>0</td>\n",
       "      <td>01.02.2005 15:00</td>\n",
       "    </tr>\n",
       "    <tr>\n",
       "      <th>67386</th>\n",
       "      <td>-7.1</td>\n",
       "      <td>0</td>\n",
       "      <td>01.02.2005 12:00</td>\n",
       "    </tr>\n",
       "    <tr>\n",
       "      <th>67387</th>\n",
       "      <td>-8.6</td>\n",
       "      <td>3.0</td>\n",
       "      <td>01.02.2005 09:00</td>\n",
       "    </tr>\n",
       "    <tr>\n",
       "      <th>67388</th>\n",
       "      <td>-8.2</td>\n",
       "      <td>2.0</td>\n",
       "      <td>01.02.2005 06:00</td>\n",
       "    </tr>\n",
       "    <tr>\n",
       "      <th>67389</th>\n",
       "      <td>-8.6</td>\n",
       "      <td>0</td>\n",
       "      <td>01.02.2005 03:00</td>\n",
       "    </tr>\n",
       "  </tbody>\n",
       "</table>\n",
       "<p>67390 rows × 3 columns</p>\n",
       "</div>"
      ]
     },
     "execution_count": 111,
     "metadata": {},
     "output_type": "execute_result"
    }
   ],
   "execution_count": 111
  },
  {
   "metadata": {
    "ExecuteTime": {
     "end_time": "2024-12-16T19:56:51.202089Z",
     "start_time": "2024-12-16T19:56:51.198646Z"
    }
   },
   "cell_type": "code",
   "source": "df = data.copy()",
   "id": "244f9c53d5d6cc90",
   "outputs": [],
   "execution_count": 142
  },
  {
   "metadata": {
    "ExecuteTime": {
     "end_time": "2024-12-16T19:56:51.217079Z",
     "start_time": "2024-12-16T19:56:51.205097Z"
    }
   },
   "cell_type": "code",
   "source": [
    "df['date'] = df['date_time'].apply(lambda x: x.split()[0].strip())\n",
    "del df['date_time']"
   ],
   "id": "e60f9983b3ba40a9",
   "outputs": [],
   "execution_count": 143
  },
  {
   "metadata": {
    "ExecuteTime": {
     "end_time": "2024-12-16T19:56:51.240145Z",
     "start_time": "2024-12-16T19:56:51.235590Z"
    }
   },
   "cell_type": "code",
   "source": "df = df[df['T'].notna()]",
   "id": "c24fda72fa235a15",
   "outputs": [],
   "execution_count": 144
  },
  {
   "metadata": {
    "ExecuteTime": {
     "end_time": "2024-12-16T19:56:51.282964Z",
     "start_time": "2024-12-16T19:56:51.257741Z"
    }
   },
   "cell_type": "code",
   "source": [
    "def replace_str_with_zero(value):\n",
    "    try:\n",
    "        np.float64(value)\n",
    "        return value\n",
    "    except ValueError:\n",
    "        return np.float64(0)\n",
    "\n",
    "# Применяем функцию ко всем значениям в столбце RRR\n",
    "df['RRR'] = df['RRR'].apply(replace_str_with_zero)"
   ],
   "id": "da9ce8a5c4ec72a0",
   "outputs": [],
   "execution_count": 145
  },
  {
   "metadata": {
    "ExecuteTime": {
     "end_time": "2024-12-16T19:56:51.305896Z",
     "start_time": "2024-12-16T19:56:51.300349Z"
    }
   },
   "cell_type": "code",
   "source": [
    "df['temperature'] = df['T'].astype(np.float64)\n",
    "df['precipitation'] = df['RRR'].astype(np.float64)\n",
    "\n",
    "del df['T']\n",
    "del df['RRR']"
   ],
   "id": "654f1d49452d4625",
   "outputs": [],
   "execution_count": 146
  },
  {
   "metadata": {
    "ExecuteTime": {
     "end_time": "2024-12-16T19:56:51.335005Z",
     "start_time": "2024-12-16T19:56:51.323922Z"
    }
   },
   "cell_type": "code",
   "source": [
    "df = df.groupby('date').agg({'temperature': 'mean', 'precipitation': 'sum'})\n",
    "df['date'] = df.index\n",
    "df.reset_index(inplace=True, drop=True)"
   ],
   "id": "13540d1215e677e",
   "outputs": [],
   "execution_count": 147
  },
  {
   "metadata": {
    "ExecuteTime": {
     "end_time": "2024-12-16T19:56:51.361477Z",
     "start_time": "2024-12-16T19:56:51.352891Z"
    }
   },
   "cell_type": "code",
   "source": [
    "split_dates = df['date'].str.split('.', expand=True)\n",
    "split_dates.columns = ['day', 'month', 'year']\n",
    "split_dates"
   ],
   "id": "9a14d7544debdbe2",
   "outputs": [
    {
     "data": {
      "text/plain": [
       "     day month  year\n",
       "0     01    01  2006\n",
       "1     01    01  2007\n",
       "2     01    01  2008\n",
       "3     01    01  2009\n",
       "4     01    01  2010\n",
       "...   ..   ...   ...\n",
       "7252  31    12  2019\n",
       "7253  31    12  2020\n",
       "7254  31    12  2021\n",
       "7255  31    12  2022\n",
       "7256  31    12  2023\n",
       "\n",
       "[7257 rows x 3 columns]"
      ],
      "text/html": [
       "<div>\n",
       "<style scoped>\n",
       "    .dataframe tbody tr th:only-of-type {\n",
       "        vertical-align: middle;\n",
       "    }\n",
       "\n",
       "    .dataframe tbody tr th {\n",
       "        vertical-align: top;\n",
       "    }\n",
       "\n",
       "    .dataframe thead th {\n",
       "        text-align: right;\n",
       "    }\n",
       "</style>\n",
       "<table border=\"1\" class=\"dataframe\">\n",
       "  <thead>\n",
       "    <tr style=\"text-align: right;\">\n",
       "      <th></th>\n",
       "      <th>day</th>\n",
       "      <th>month</th>\n",
       "      <th>year</th>\n",
       "    </tr>\n",
       "  </thead>\n",
       "  <tbody>\n",
       "    <tr>\n",
       "      <th>0</th>\n",
       "      <td>01</td>\n",
       "      <td>01</td>\n",
       "      <td>2006</td>\n",
       "    </tr>\n",
       "    <tr>\n",
       "      <th>1</th>\n",
       "      <td>01</td>\n",
       "      <td>01</td>\n",
       "      <td>2007</td>\n",
       "    </tr>\n",
       "    <tr>\n",
       "      <th>2</th>\n",
       "      <td>01</td>\n",
       "      <td>01</td>\n",
       "      <td>2008</td>\n",
       "    </tr>\n",
       "    <tr>\n",
       "      <th>3</th>\n",
       "      <td>01</td>\n",
       "      <td>01</td>\n",
       "      <td>2009</td>\n",
       "    </tr>\n",
       "    <tr>\n",
       "      <th>4</th>\n",
       "      <td>01</td>\n",
       "      <td>01</td>\n",
       "      <td>2010</td>\n",
       "    </tr>\n",
       "    <tr>\n",
       "      <th>...</th>\n",
       "      <td>...</td>\n",
       "      <td>...</td>\n",
       "      <td>...</td>\n",
       "    </tr>\n",
       "    <tr>\n",
       "      <th>7252</th>\n",
       "      <td>31</td>\n",
       "      <td>12</td>\n",
       "      <td>2019</td>\n",
       "    </tr>\n",
       "    <tr>\n",
       "      <th>7253</th>\n",
       "      <td>31</td>\n",
       "      <td>12</td>\n",
       "      <td>2020</td>\n",
       "    </tr>\n",
       "    <tr>\n",
       "      <th>7254</th>\n",
       "      <td>31</td>\n",
       "      <td>12</td>\n",
       "      <td>2021</td>\n",
       "    </tr>\n",
       "    <tr>\n",
       "      <th>7255</th>\n",
       "      <td>31</td>\n",
       "      <td>12</td>\n",
       "      <td>2022</td>\n",
       "    </tr>\n",
       "    <tr>\n",
       "      <th>7256</th>\n",
       "      <td>31</td>\n",
       "      <td>12</td>\n",
       "      <td>2023</td>\n",
       "    </tr>\n",
       "  </tbody>\n",
       "</table>\n",
       "<p>7257 rows × 3 columns</p>\n",
       "</div>"
      ]
     },
     "execution_count": 148,
     "metadata": {},
     "output_type": "execute_result"
    }
   ],
   "execution_count": 148
  },
  {
   "metadata": {
    "ExecuteTime": {
     "end_time": "2024-12-16T19:58:12.942555Z",
     "start_time": "2024-12-16T19:58:12.939839Z"
    }
   },
   "cell_type": "code",
   "source": [
    "df[['day', 'month', 'year']] = split_dates\n",
    "del df['date']"
   ],
   "id": "eb8c9b96d466d9a1",
   "outputs": [],
   "execution_count": 150
  },
  {
   "metadata": {
    "ExecuteTime": {
     "end_time": "2024-12-16T21:52:28.752697Z",
     "start_time": "2024-12-16T21:52:28.749151Z"
    }
   },
   "cell_type": "code",
   "source": [
    "df['day'] = df['day'].astype(np.int64)\n",
    "df['month'] = df['month'].astype(np.int64)\n",
    "df['year'] = df['year'].astype(np.int64)"
   ],
   "id": "66332b068052bf04",
   "outputs": [],
   "execution_count": 238
  },
  {
   "metadata": {
    "ExecuteTime": {
     "end_time": "2024-12-16T20:24:14.616848Z",
     "start_time": "2024-12-16T20:24:14.340947Z"
    }
   },
   "cell_type": "code",
   "source": [
    "import pandas as pd\n",
    "import numpy as np\n",
    "from sklearn.model_selection import train_test_split\n",
    "from sklearn.ensemble import RandomForestRegressor\n",
    "from sklearn.metrics import mean_squared_error\n",
    "import matplotlib.pyplot as plt"
   ],
   "id": "821f08547a6a246",
   "outputs": [],
   "execution_count": 162
  },
  {
   "metadata": {
    "ExecuteTime": {
     "end_time": "2024-12-16T21:52:38.980130Z",
     "start_time": "2024-12-16T21:52:38.976031Z"
    }
   },
   "cell_type": "code",
   "source": [
    "# Предположим, что датафрейм называется df\n",
    "# Целевая переменная\n",
    "y = df['temperature']\n",
    "\n",
    "# Признаки\n",
    "X = df[['day', 'month', 'year']]\n",
    "\n",
    "# Разделим данные на обучающую и тестовую выборки\n",
    "X_train, X_test, y_train, y_test = train_test_split(X, y, test_size=0.2, random_state=42)"
   ],
   "id": "d8a338befb6376cc",
   "outputs": [],
   "execution_count": 239
  },
  {
   "metadata": {
    "ExecuteTime": {
     "end_time": "2024-12-16T21:53:24.947744Z",
     "start_time": "2024-12-16T21:53:20.225326Z"
    }
   },
   "cell_type": "code",
   "source": [
    "from sklearn.model_selection import GridSearchCV\n",
    "\n",
    "# Задаем параметры для перебора\n",
    "param_grid = {\n",
    "    'n_estimators': [50, 100, 150, 200],\n",
    "    'max_depth': [None, 5, 10, 15, 20, 25],\n",
    "    'min_samples_split': [2, 5, 10]\n",
    "}\n",
    "\n",
    "# GridSearch\n",
    "grid_search = GridSearchCV(estimator=RandomForestRegressor(random_state=42),\n",
    "                           param_grid=param_grid,\n",
    "                           cv=3, scoring='neg_mean_squared_error', verbose=2, n_jobs=-1)\n",
    "grid_search.fit(X_train, y_train)\n",
    "\n",
    "# Лучшая модель\n",
    "best_model = grid_search.best_estimator_\n",
    "print(grid_search.best_params_)\n",
    "\n",
    "# Оценка лучшей модели\n",
    "y_pred_best = best_model.predict(X_test)\n",
    "rmse_best = np.sqrt(mean_squared_error(y_test, y_pred_best))\n",
    "print(f\"Best RMSE: {rmse_best}\")\n"
   ],
   "id": "46cc563ba331b351",
   "outputs": [
    {
     "name": "stdout",
     "output_type": "stream",
     "text": [
      "Fitting 3 folds for each of 72 candidates, totalling 216 fits\n",
      "{'max_depth': 20, 'min_samples_split': 2, 'n_estimators': 200}\n",
      "Best RMSE: 2.5541286803366168\n"
     ]
    }
   ],
   "execution_count": 241
  },
  {
   "metadata": {
    "ExecuteTime": {
     "end_time": "2024-12-16T21:53:45.013854Z",
     "start_time": "2024-12-16T21:53:44.088584Z"
    }
   },
   "cell_type": "code",
   "source": [
    "# Создаем модель случайного леса\n",
    "model = RandomForestRegressor(n_estimators=200, min_samples_split=2, max_depth=20, random_state=42)\n",
    "\n",
    "# Обучаем модель\n",
    "model.fit(X_train, y_train)\n",
    "\n",
    "# Предсказания на тестовой выборке\n",
    "y_pred = model.predict(X_test)\n",
    "\n",
    "# Оценка качества модели (например, RMSE)\n",
    "rmse = np.sqrt(mean_squared_error(y_test, y_pred))\n",
    "print(f\"RMSE: {rmse}\")"
   ],
   "id": "fb04fa0ed1ec7c67",
   "outputs": [
    {
     "name": "stdout",
     "output_type": "stream",
     "text": [
      "RMSE: 2.5541286803366168\n"
     ]
    }
   ],
   "execution_count": 242
  },
  {
   "metadata": {
    "ExecuteTime": {
     "end_time": "2024-12-16T22:00:12.375336Z",
     "start_time": "2024-12-16T22:00:12.364279Z"
    }
   },
   "cell_type": "code",
   "source": [
    "pred_d = pd.DataFrame(\n",
    "    {\n",
    "        'day': [13],\n",
    "        'month': [2],\n",
    "        'year': [2025],\n",
    "    }\n",
    ")\n",
    "model.predict(pred_d)"
   ],
   "id": "5f9aabf5843b45a5",
   "outputs": [
    {
     "data": {
      "text/plain": [
       "array([-5.698125])"
      ]
     },
     "execution_count": 279,
     "metadata": {},
     "output_type": "execute_result"
    }
   ],
   "execution_count": 279
  },
  {
   "metadata": {},
   "cell_type": "markdown",
   "source": [
    "```\n",
    "\n",
    "# Сохраняем модель в файл\n",
    "joblib.dump(model, 'random_forest_model.joblib')\n",
    "\n",
    "# Загружаем сохранённую модель\n",
    "loaded_model = joblib.load('random_forest_model.joblib')\n",
    "\n",
    "# Делаем предсказание на тестовом наборе\n",
    "predictions = loaded_model.predict(X_test)\n",
    "\n",
    "```"
   ],
   "id": "b0d3c306483236be"
  },
  {
   "metadata": {
    "ExecuteTime": {
     "end_time": "2024-12-16T20:26:56.186273Z",
     "start_time": "2024-12-16T20:26:56.087186Z"
    }
   },
   "cell_type": "code",
   "source": [
    "plt.figure(figsize=(10, 6))\n",
    "plt.plot(y_test.values, label='Actual Temperature', alpha=0.7)\n",
    "plt.plot(y_pred, label='Predicted Temperature', alpha=0.7)\n",
    "plt.legend()\n",
    "plt.title('Actual vs Predicted Temperature')\n",
    "plt.show()"
   ],
   "id": "4b61bb1f4da47239",
   "outputs": [
    {
     "data": {
      "text/plain": [
       "<Figure size 1000x600 with 1 Axes>"
      ],
      "image/png": "[encoded data removed]"
     },
     "metadata": {},
     "output_type": "display_data"
    }
   ],
   "execution_count": 166
  },
  {
   "metadata": {
    "ExecuteTime": {
     "end_time": "2024-12-16T20:35:54.161158Z",
     "start_time": "2024-12-16T20:35:54.137304Z"
    }
   },
   "cell_type": "code",
   "source": "from xgboost import XGBRegressor",
   "id": "fc18599200a62d03",
   "outputs": [],
   "execution_count": 167
  },
  {
   "metadata": {
    "ExecuteTime": {
     "end_time": "2024-12-16T21:55:41.447405Z",
     "start_time": "2024-12-16T21:55:41.443956Z"
    }
   },
   "cell_type": "code",
   "source": "df_xgb = df.copy()",
   "id": "69705c0336317322",
   "outputs": [],
   "execution_count": 255
  },
  {
   "metadata": {
    "ExecuteTime": {
     "end_time": "2024-12-16T21:55:43.039434Z",
     "start_time": "2024-12-16T21:55:42.727935Z"
    }
   },
   "cell_type": "code",
   "source": [
    "# Разделяем данные на признаки и целевую переменную\n",
    "X = df_xgb[['day', 'month', 'year']]\n",
    "y = df_xgb['temperature']\n",
    "\n",
    "# Разделяем данные на обучающие и тестовые выборки\n",
    "X_train, X_val, y_train, y_val = train_test_split(X, y, test_size=0.2, random_state=42)\n",
    "\n",
    "# Создаем и обучаем модель\n",
    "xgb_model = XGBRegressor(n_estimators=150, max_depth=10, learning_rate=0.2, random_state=42)\n",
    "xgb_model.fit(X_train, y_train)\n",
    "\n",
    "# Оценка модели\n",
    "y_pred = xgb_model.predict(X_val)\n",
    "rmse = np.sqrt(mean_squared_error(y_val, y_pred))\n",
    "print(f\"RMSE: {rmse}\")"
   ],
   "id": "4fb4e1680d2ecaf8",
   "outputs": [
    {
     "name": "stdout",
     "output_type": "stream",
     "text": [
      "RMSE: 2.645526818740043\n"
     ]
    }
   ],
   "execution_count": 256
  },
  {
   "metadata": {
    "ExecuteTime": {
     "end_time": "2024-12-16T22:01:14.319971Z",
     "start_time": "2024-12-16T22:01:14.305860Z"
    }
   },
   "cell_type": "code",
   "source": [
    "pred_d = pd.DataFrame(\n",
    "    {\n",
    "        'day': [13],\n",
    "        'month': [2],\n",
    "        'year': [2015],\n",
    "    }\n",
    ")\n",
    "print(xgb_model.predict(pred_d))\n",
    "print(model.predict(pred_d))"
   ],
   "id": "f7c649bf5f188e76",
   "outputs": [
    {
     "name": "stdout",
     "output_type": "stream",
     "text": [
      "[-0.22602499]\n",
      "[-0.27982639]\n"
     ]
    }
   ],
   "execution_count": 283
  },
  {
   "metadata": {
    "ExecuteTime": {
     "end_time": "2024-12-16T20:46:15.975768Z",
     "start_time": "2024-12-16T20:46:15.970657Z"
    }
   },
   "cell_type": "code",
   "source": "X_train",
   "id": "4813a6fd7c85a19e",
   "outputs": [
    {
     "data": {
      "text/plain": [
       "      day  month  year  precipitation\n",
       "5123   22      6  2017           10.0\n",
       "1893    8     12  2007            0.2\n",
       "1971    9      4  2006            9.0\n",
       "864     4      8  2013            0.0\n",
       "6010   26      3  2012            1.0\n",
       "...   ...    ...   ...            ...\n",
       "3772   16     10  2014            7.1\n",
       "5191   22     10  2005            0.0\n",
       "5226   22     11  2020            5.0\n",
       "5390   23      8  2006           19.5\n",
       "860     4      8  2009            4.7\n",
       "\n",
       "[5805 rows x 4 columns]"
      ],
      "text/html": [
       "<div>\n",
       "<style scoped>\n",
       "    .dataframe tbody tr th:only-of-type {\n",
       "        vertical-align: middle;\n",
       "    }\n",
       "\n",
       "    .dataframe tbody tr th {\n",
       "        vertical-align: top;\n",
       "    }\n",
       "\n",
       "    .dataframe thead th {\n",
       "        text-align: right;\n",
       "    }\n",
       "</style>\n",
       "<table border=\"1\" class=\"dataframe\">\n",
       "  <thead>\n",
       "    <tr style=\"text-align: right;\">\n",
       "      <th></th>\n",
       "      <th>day</th>\n",
       "      <th>month</th>\n",
       "      <th>year</th>\n",
       "      <th>precipitation</th>\n",
       "    </tr>\n",
       "  </thead>\n",
       "  <tbody>\n",
       "    <tr>\n",
       "      <th>5123</th>\n",
       "      <td>22</td>\n",
       "      <td>6</td>\n",
       "      <td>2017</td>\n",
       "      <td>10.0</td>\n",
       "    </tr>\n",
       "    <tr>\n",
       "      <th>1893</th>\n",
       "      <td>8</td>\n",
       "      <td>12</td>\n",
       "      <td>2007</td>\n",
       "      <td>0.2</td>\n",
       "    </tr>\n",
       "    <tr>\n",
       "      <th>1971</th>\n",
       "      <td>9</td>\n",
       "      <td>4</td>\n",
       "      <td>2006</td>\n",
       "      <td>9.0</td>\n",
       "    </tr>\n",
       "    <tr>\n",
       "      <th>864</th>\n",
       "      <td>4</td>\n",
       "      <td>8</td>\n",
       "      <td>2013</td>\n",
       "      <td>0.0</td>\n",
       "    </tr>\n",
       "    <tr>\n",
       "      <th>6010</th>\n",
       "      <td>26</td>\n",
       "      <td>3</td>\n",
       "      <td>2012</td>\n",
       "      <td>1.0</td>\n",
       "    </tr>\n",
       "    <tr>\n",
       "      <th>...</th>\n",
       "      <td>...</td>\n",
       "      <td>...</td>\n",
       "      <td>...</td>\n",
       "      <td>...</td>\n",
       "    </tr>\n",
       "    <tr>\n",
       "      <th>3772</th>\n",
       "      <td>16</td>\n",
       "      <td>10</td>\n",
       "      <td>2014</td>\n",
       "      <td>7.1</td>\n",
       "    </tr>\n",
       "    <tr>\n",
       "      <th>5191</th>\n",
       "      <td>22</td>\n",
       "      <td>10</td>\n",
       "      <td>2005</td>\n",
       "      <td>0.0</td>\n",
       "    </tr>\n",
       "    <tr>\n",
       "      <th>5226</th>\n",
       "      <td>22</td>\n",
       "      <td>11</td>\n",
       "      <td>2020</td>\n",
       "      <td>5.0</td>\n",
       "    </tr>\n",
       "    <tr>\n",
       "      <th>5390</th>\n",
       "      <td>23</td>\n",
       "      <td>8</td>\n",
       "      <td>2006</td>\n",
       "      <td>19.5</td>\n",
       "    </tr>\n",
       "    <tr>\n",
       "      <th>860</th>\n",
       "      <td>4</td>\n",
       "      <td>8</td>\n",
       "      <td>2009</td>\n",
       "      <td>4.7</td>\n",
       "    </tr>\n",
       "  </tbody>\n",
       "</table>\n",
       "<p>5805 rows × 4 columns</p>\n",
       "</div>"
      ]
     },
     "execution_count": 197,
     "metadata": {},
     "output_type": "execute_result"
    }
   ],
   "execution_count": 197
  },
  {
   "metadata": {},
   "cell_type": "code",
   "outputs": [],
   "execution_count": null,
   "source": "xgb_model.predict()",
   "id": "559ae1273d61ae47"
  },
  {
   "metadata": {
    "ExecuteTime": {
     "end_time": "2024-12-16T21:24:10.554184Z",
     "start_time": "2024-12-16T21:23:26.939159Z"
    }
   },
   "cell_type": "code",
   "source": [
    "from sklearn.preprocessing import MinMaxScaler\n",
    "from tensorflow.keras.models import Sequential\n",
    "from tensorflow.keras.layers import LSTM, Dense, Dropout\n",
    "\n",
    "# Разделение данных на входные и выходные переменные\n",
    "X = df[['day', 'month', 'year']]\n",
    "y = df['temperature']\n",
    "\n",
    "# Масштабирование данных\n",
    "scaler = MinMaxScaler()\n",
    "X_scaled = scaler.fit_transform(X)\n",
    "y_scaled = scaler.fit_transform(y.values.reshape(-1, 1))\n",
    "\n",
    "# Создание модели LSTM  \n",
    "model = Sequential()\n",
    "model.add(LSTM(50, return_sequences=True, input_shape=(X_train.shape[1], 1)))\n",
    "model.add(Dropout(0.2))\n",
    "model.add(LSTM(50, return_sequences=False))\n",
    "model.add(Dropout(0.2))\n",
    "model.add(Dense(1))\n",
    "\n",
    "# Компиляция модели\n",
    "model.compile(loss='mean_squared_error', optimizer='adam')\n",
    "\n",
    "# Обучение модели\n",
    "history = model.fit(X_scaled, y_scaled, epochs=100, batch_size=32, validation_split=0.2, verbose=0)"
   ],
   "id": "96ece359b0554309",
   "outputs": [
    {
     "name": "stderr",
     "output_type": "stream",
     "text": [
      "C:\\Users\\vit\\PycharmProjects\\hackathon\\venv\\Lib\\site-packages\\keras\\src\\layers\\rnn\\rnn.py:200: UserWarning:\n",
      "\n",
      "Do not pass an `input_shape`/`input_dim` argument to a layer. When using Sequential models, prefer using an `Input(shape)` object as the first layer in the model instead.\n",
      "\n"
     ]
    }
   ],
   "execution_count": 210
  },
  {
   "metadata": {
    "ExecuteTime": {
     "end_time": "2024-12-16T21:29:42.917272Z",
     "start_time": "2024-12-16T21:29:42.914608Z"
    }
   },
   "cell_type": "code",
   "source": [
    "def predict_temperature(day, month, year):\n",
    "    # Создание массива входных данных  \n",
    "    input_data = np.array([[day, month, year]])\n",
    "\n",
    "    # Масштабирование входных данных  \n",
    "    input_scaled = scaler.transform(input_data)\n",
    "\n",
    "    # Изменение формы данных для LSTM (должен быть 3D массив)  \n",
    "    input_scaled = input_scaled.reshape((input_scaled.shape[0], input_scaled.shape[1], 1))\n",
    "\n",
    "    # Предсказание  \n",
    "    prediction_scaled = model.predict(input_scaled)\n",
    "\n",
    "    # Обратное преобразование для получения изначальной шкалы  \n",
    "    prediction = scaler.inverse_transform(prediction_scaled)\n",
    "\n",
    "    return prediction[0, 0]"
   ],
   "id": "db52e8611e7251a3",
   "outputs": [],
   "execution_count": 214
  },
  {
   "metadata": {
    "ExecuteTime": {
     "end_time": "2024-12-16T21:29:41.470365Z",
     "start_time": "2024-12-16T21:29:41.467641Z"
    }
   },
   "cell_type": "code",
   "source": [
    "# Предсказание температуры на заданную дату\n",
    "def predict_temperature1(day, month, year):\n",
    "    X_pred = [[day, month, year]]\n",
    "    X_pred_scaled = scaler.fit_transform(X_pred)\n",
    "    prediction = history.predict(X_pred_scaled)\n",
    "    return scaler.inverse_transform(prediction)[0][0]\n",
    "\n"
   ],
   "id": "c91eda44b8a811a0",
   "outputs": [],
   "execution_count": 213
  },
  {
   "metadata": {
    "ExecuteTime": {
     "end_time": "2024-12-16T21:29:44.493802Z",
     "start_time": "2024-12-16T21:29:44.463193Z"
    }
   },
   "cell_type": "code",
   "source": [
    "# Пример использования функции предсказания\n",
    "predicted_temp = predict_temperature(17, 12, 2024)\n",
    "print(f'Прогнозируемая температура на 15 июня: {predicted_temp:.2f}°C')"
   ],
   "id": "3183b89e51445c24",
   "outputs": [
    {
     "ename": "ValueError",
     "evalue": "X has 3 features, but MinMaxScaler is expecting 1 features as input.",
     "output_type": "error",
     "traceback": [
      "\u001B[1;31m---------------------------------------------------------------------------\u001B[0m",
      "\u001B[1;31mValueError\u001B[0m                                Traceback (most recent call last)",
      "Cell \u001B[1;32mIn[215], line 2\u001B[0m\n\u001B[0;32m      1\u001B[0m \u001B[38;5;66;03m# Пример использования функции предсказания\u001B[39;00m\n\u001B[1;32m----> 2\u001B[0m predicted_temp \u001B[38;5;241m=\u001B[39m \u001B[43mpredict_temperature\u001B[49m\u001B[43m(\u001B[49m\u001B[38;5;241;43m17\u001B[39;49m\u001B[43m,\u001B[49m\u001B[43m \u001B[49m\u001B[38;5;241;43m12\u001B[39;49m\u001B[43m,\u001B[49m\u001B[43m \u001B[49m\u001B[38;5;241;43m2024\u001B[39;49m\u001B[43m)\u001B[49m\n\u001B[0;32m      3\u001B[0m \u001B[38;5;28mprint\u001B[39m(\u001B[38;5;124mf\u001B[39m\u001B[38;5;124m'\u001B[39m\u001B[38;5;124mПрогнозируемая температура на 15 июня: \u001B[39m\u001B[38;5;132;01m{\u001B[39;00mpredicted_temp\u001B[38;5;132;01m:\u001B[39;00m\u001B[38;5;124m.2f\u001B[39m\u001B[38;5;132;01m}\u001B[39;00m\u001B[38;5;124m°C\u001B[39m\u001B[38;5;124m'\u001B[39m)\n",
      "Cell \u001B[1;32mIn[214], line 6\u001B[0m, in \u001B[0;36mpredict_temperature\u001B[1;34m(day, month, year)\u001B[0m\n\u001B[0;32m      3\u001B[0m input_data \u001B[38;5;241m=\u001B[39m np\u001B[38;5;241m.\u001B[39marray([[day, month, year]])\n\u001B[0;32m      5\u001B[0m \u001B[38;5;66;03m# Масштабирование входных данных  \u001B[39;00m\n\u001B[1;32m----> 6\u001B[0m input_scaled \u001B[38;5;241m=\u001B[39m \u001B[43mscaler\u001B[49m\u001B[38;5;241;43m.\u001B[39;49m\u001B[43mtransform\u001B[49m\u001B[43m(\u001B[49m\u001B[43minput_data\u001B[49m\u001B[43m)\u001B[49m\n\u001B[0;32m      8\u001B[0m \u001B[38;5;66;03m# Изменение формы данных для LSTM (должен быть 3D массив)  \u001B[39;00m\n\u001B[0;32m      9\u001B[0m input_scaled \u001B[38;5;241m=\u001B[39m input_scaled\u001B[38;5;241m.\u001B[39mreshape((input_scaled\u001B[38;5;241m.\u001B[39mshape[\u001B[38;5;241m0\u001B[39m], input_scaled\u001B[38;5;241m.\u001B[39mshape[\u001B[38;5;241m1\u001B[39m], \u001B[38;5;241m1\u001B[39m))\n",
      "File \u001B[1;32m~\\PycharmProjects\\hackathon\\venv\\Lib\\site-packages\\sklearn\\utils\\_set_output.py:319\u001B[0m, in \u001B[0;36m_wrap_method_output.<locals>.wrapped\u001B[1;34m(self, X, *args, **kwargs)\u001B[0m\n\u001B[0;32m    317\u001B[0m \u001B[38;5;129m@wraps\u001B[39m(f)\n\u001B[0;32m    318\u001B[0m \u001B[38;5;28;01mdef\u001B[39;00m \u001B[38;5;21mwrapped\u001B[39m(\u001B[38;5;28mself\u001B[39m, X, \u001B[38;5;241m*\u001B[39margs, \u001B[38;5;241m*\u001B[39m\u001B[38;5;241m*\u001B[39mkwargs):\n\u001B[1;32m--> 319\u001B[0m     data_to_wrap \u001B[38;5;241m=\u001B[39m \u001B[43mf\u001B[49m\u001B[43m(\u001B[49m\u001B[38;5;28;43mself\u001B[39;49m\u001B[43m,\u001B[49m\u001B[43m \u001B[49m\u001B[43mX\u001B[49m\u001B[43m,\u001B[49m\u001B[43m \u001B[49m\u001B[38;5;241;43m*\u001B[39;49m\u001B[43margs\u001B[49m\u001B[43m,\u001B[49m\u001B[43m \u001B[49m\u001B[38;5;241;43m*\u001B[39;49m\u001B[38;5;241;43m*\u001B[39;49m\u001B[43mkwargs\u001B[49m\u001B[43m)\u001B[49m\n\u001B[0;32m    320\u001B[0m     \u001B[38;5;28;01mif\u001B[39;00m \u001B[38;5;28misinstance\u001B[39m(data_to_wrap, \u001B[38;5;28mtuple\u001B[39m):\n\u001B[0;32m    321\u001B[0m         \u001B[38;5;66;03m# only wrap the first output for cross decomposition\u001B[39;00m\n\u001B[0;32m    322\u001B[0m         return_tuple \u001B[38;5;241m=\u001B[39m (\n\u001B[0;32m    323\u001B[0m             _wrap_data_with_container(method, data_to_wrap[\u001B[38;5;241m0\u001B[39m], X, \u001B[38;5;28mself\u001B[39m),\n\u001B[0;32m    324\u001B[0m             \u001B[38;5;241m*\u001B[39mdata_to_wrap[\u001B[38;5;241m1\u001B[39m:],\n\u001B[0;32m    325\u001B[0m         )\n",
      "File \u001B[1;32m~\\PycharmProjects\\hackathon\\venv\\Lib\\site-packages\\sklearn\\preprocessing\\_data.py:532\u001B[0m, in \u001B[0;36mMinMaxScaler.transform\u001B[1;34m(self, X)\u001B[0m\n\u001B[0;32m    528\u001B[0m check_is_fitted(\u001B[38;5;28mself\u001B[39m)\n\u001B[0;32m    530\u001B[0m xp, _ \u001B[38;5;241m=\u001B[39m get_namespace(X)\n\u001B[1;32m--> 532\u001B[0m X \u001B[38;5;241m=\u001B[39m \u001B[43mvalidate_data\u001B[49m\u001B[43m(\u001B[49m\n\u001B[0;32m    533\u001B[0m \u001B[43m    \u001B[49m\u001B[38;5;28;43mself\u001B[39;49m\u001B[43m,\u001B[49m\n\u001B[0;32m    534\u001B[0m \u001B[43m    \u001B[49m\u001B[43mX\u001B[49m\u001B[43m,\u001B[49m\n\u001B[0;32m    535\u001B[0m \u001B[43m    \u001B[49m\u001B[43mcopy\u001B[49m\u001B[38;5;241;43m=\u001B[39;49m\u001B[38;5;28;43mself\u001B[39;49m\u001B[38;5;241;43m.\u001B[39;49m\u001B[43mcopy\u001B[49m\u001B[43m,\u001B[49m\n\u001B[0;32m    536\u001B[0m \u001B[43m    \u001B[49m\u001B[43mdtype\u001B[49m\u001B[38;5;241;43m=\u001B[39;49m\u001B[43m_array_api\u001B[49m\u001B[38;5;241;43m.\u001B[39;49m\u001B[43msupported_float_dtypes\u001B[49m\u001B[43m(\u001B[49m\u001B[43mxp\u001B[49m\u001B[43m)\u001B[49m\u001B[43m,\u001B[49m\n\u001B[0;32m    537\u001B[0m \u001B[43m    \u001B[49m\u001B[43mforce_writeable\u001B[49m\u001B[38;5;241;43m=\u001B[39;49m\u001B[38;5;28;43;01mTrue\u001B[39;49;00m\u001B[43m,\u001B[49m\n\u001B[0;32m    538\u001B[0m \u001B[43m    \u001B[49m\u001B[43mensure_all_finite\u001B[49m\u001B[38;5;241;43m=\u001B[39;49m\u001B[38;5;124;43m\"\u001B[39;49m\u001B[38;5;124;43mallow-nan\u001B[39;49m\u001B[38;5;124;43m\"\u001B[39;49m\u001B[43m,\u001B[49m\n\u001B[0;32m    539\u001B[0m \u001B[43m    \u001B[49m\u001B[43mreset\u001B[49m\u001B[38;5;241;43m=\u001B[39;49m\u001B[38;5;28;43;01mFalse\u001B[39;49;00m\u001B[43m,\u001B[49m\n\u001B[0;32m    540\u001B[0m \u001B[43m\u001B[49m\u001B[43m)\u001B[49m\n\u001B[0;32m    542\u001B[0m X \u001B[38;5;241m*\u001B[39m\u001B[38;5;241m=\u001B[39m \u001B[38;5;28mself\u001B[39m\u001B[38;5;241m.\u001B[39mscale_\n\u001B[0;32m    543\u001B[0m X \u001B[38;5;241m+\u001B[39m\u001B[38;5;241m=\u001B[39m \u001B[38;5;28mself\u001B[39m\u001B[38;5;241m.\u001B[39mmin_\n",
      "File \u001B[1;32m~\\PycharmProjects\\hackathon\\venv\\Lib\\site-packages\\sklearn\\utils\\validation.py:2965\u001B[0m, in \u001B[0;36mvalidate_data\u001B[1;34m(_estimator, X, y, reset, validate_separately, skip_check_array, **check_params)\u001B[0m\n\u001B[0;32m   2962\u001B[0m     out \u001B[38;5;241m=\u001B[39m X, y\n\u001B[0;32m   2964\u001B[0m \u001B[38;5;28;01mif\u001B[39;00m \u001B[38;5;129;01mnot\u001B[39;00m no_val_X \u001B[38;5;129;01mand\u001B[39;00m check_params\u001B[38;5;241m.\u001B[39mget(\u001B[38;5;124m\"\u001B[39m\u001B[38;5;124mensure_2d\u001B[39m\u001B[38;5;124m\"\u001B[39m, \u001B[38;5;28;01mTrue\u001B[39;00m):\n\u001B[1;32m-> 2965\u001B[0m     \u001B[43m_check_n_features\u001B[49m\u001B[43m(\u001B[49m\u001B[43m_estimator\u001B[49m\u001B[43m,\u001B[49m\u001B[43m \u001B[49m\u001B[43mX\u001B[49m\u001B[43m,\u001B[49m\u001B[43m \u001B[49m\u001B[43mreset\u001B[49m\u001B[38;5;241;43m=\u001B[39;49m\u001B[43mreset\u001B[49m\u001B[43m)\u001B[49m\n\u001B[0;32m   2967\u001B[0m \u001B[38;5;28;01mreturn\u001B[39;00m out\n",
      "File \u001B[1;32m~\\PycharmProjects\\hackathon\\venv\\Lib\\site-packages\\sklearn\\utils\\validation.py:2829\u001B[0m, in \u001B[0;36m_check_n_features\u001B[1;34m(estimator, X, reset)\u001B[0m\n\u001B[0;32m   2826\u001B[0m     \u001B[38;5;28;01mreturn\u001B[39;00m\n\u001B[0;32m   2828\u001B[0m \u001B[38;5;28;01mif\u001B[39;00m n_features \u001B[38;5;241m!=\u001B[39m estimator\u001B[38;5;241m.\u001B[39mn_features_in_:\n\u001B[1;32m-> 2829\u001B[0m     \u001B[38;5;28;01mraise\u001B[39;00m \u001B[38;5;167;01mValueError\u001B[39;00m(\n\u001B[0;32m   2830\u001B[0m         \u001B[38;5;124mf\u001B[39m\u001B[38;5;124m\"\u001B[39m\u001B[38;5;124mX has \u001B[39m\u001B[38;5;132;01m{\u001B[39;00mn_features\u001B[38;5;132;01m}\u001B[39;00m\u001B[38;5;124m features, but \u001B[39m\u001B[38;5;132;01m{\u001B[39;00mestimator\u001B[38;5;241m.\u001B[39m\u001B[38;5;18m__class__\u001B[39m\u001B[38;5;241m.\u001B[39m\u001B[38;5;18m__name__\u001B[39m\u001B[38;5;132;01m}\u001B[39;00m\u001B[38;5;124m \u001B[39m\u001B[38;5;124m\"\u001B[39m\n\u001B[0;32m   2831\u001B[0m         \u001B[38;5;124mf\u001B[39m\u001B[38;5;124m\"\u001B[39m\u001B[38;5;124mis expecting \u001B[39m\u001B[38;5;132;01m{\u001B[39;00mestimator\u001B[38;5;241m.\u001B[39mn_features_in_\u001B[38;5;132;01m}\u001B[39;00m\u001B[38;5;124m features as input.\u001B[39m\u001B[38;5;124m\"\u001B[39m\n\u001B[0;32m   2832\u001B[0m     )\n",
      "\u001B[1;31mValueError\u001B[0m: X has 3 features, but MinMaxScaler is expecting 1 features as input."
     ]
    }
   ],
   "execution_count": 215
  },
  {
   "metadata": {
    "ExecuteTime": {
     "end_time": "2024-12-16T21:41:36.993706Z",
     "start_time": "2024-12-16T21:41:36.989682Z"
    }
   },
   "cell_type": "code",
   "source": [
    "df['day'] = df['day'].astype(int)\n",
    "df['month'] = df['month'].astype(int)\n",
    "df['year'] = df['year'].astype(int)"
   ],
   "id": "27837088e37c5e94",
   "outputs": [],
   "execution_count": 220
  },
  {
   "metadata": {
    "ExecuteTime": {
     "end_time": "2024-12-16T21:42:34.531142Z",
     "start_time": "2024-12-16T21:41:45.886302Z"
    }
   },
   "cell_type": "code",
   "source": [
    "from tensorflow.keras.callbacks import EarlyStopping\n",
    "\n",
    "features_columns = ['day', 'month', 'year']\n",
    "\n",
    "# Разделяем данные на признаки и цель\n",
    "X = df[features_columns].values\n",
    "y = df['temperature'].values.reshape(-1, 1)\n",
    "\n",
    "# Масштабирование признаков и цели\n",
    "scaler_X = MinMaxScaler()\n",
    "scaler_y = MinMaxScaler()\n",
    "\n",
    "X_scaled = scaler_X.fit_transform(X)\n",
    "y_scaled = scaler_y.fit_transform(y)\n",
    "\n",
    "# Создание последовательности временных рядов\n",
    "def create_sequences(data, target, seq_len=10):\n",
    "    X_seq = []\n",
    "    y_seq = []\n",
    "\n",
    "    for i in range(len(data) - seq_len):\n",
    "        X_seq.append(data[i:i + seq_len])\n",
    "        y_seq.append(target[i + seq_len])\n",
    "\n",
    "    return np.array(X_seq), np.array(y_seq)\n",
    "\n",
    "seq_len = 10  # Длина последовательности\n",
    "X_seq, y_seq = create_sequences(X_scaled, y_scaled, seq_len)\n",
    "\n",
    "# Модель LSTM\n",
    "model = Sequential([\n",
    "    LSTM(units=64, input_shape=(X_seq.shape[1], X_seq.shape[2]), return_sequences=True),\n",
    "    Dropout(0.2),\n",
    "    LSTM(units=32, return_sequences=False),\n",
    "    Dropout(0.2),\n",
    "    Dense(units=1)\n",
    "])\n",
    "\n",
    "# Компиляция модели\n",
    "model.compile(optimizer='adam', loss='mse')\n",
    "\n",
    "# Ранняя остановка при отсутствии улучшения\n",
    "early_stopping = EarlyStopping(monitor='val_loss', patience=10, restore_best_weights=True)\n",
    "\n",
    "# Обучение модели\n",
    "history = model.fit(\n",
    "    X_seq,\n",
    "    y_seq,\n",
    "    epochs=100,\n",
    "    validation_split=0.2,\n",
    "    batch_size=16,\n",
    "    callbacks=[early_stopping],\n",
    "    verbose=1\n",
    ")"
   ],
   "id": "db03fa87bd1810b3",
   "outputs": [
    {
     "name": "stdout",
     "output_type": "stream",
     "text": [
      "Epoch 1/100\n"
     ]
    },
    {
     "name": "stderr",
     "output_type": "stream",
     "text": [
      "C:\\Users\\vit\\PycharmProjects\\hackathon\\venv\\Lib\\site-packages\\keras\\src\\layers\\rnn\\rnn.py:200: UserWarning:\n",
      "\n",
      "Do not pass an `input_shape`/`input_dim` argument to a layer. When using Sequential models, prefer using an `Input(shape)` object as the first layer in the model instead.\n",
      "\n"
     ]
    },
    {
     "name": "stdout",
     "output_type": "stream",
     "text": [
      "\u001B[1m363/363\u001B[0m \u001B[32m━━━━━━━━━━━━━━━━━━━━\u001B[0m\u001B[37m\u001B[0m \u001B[1m2s\u001B[0m 3ms/step - loss: 0.0488 - val_loss: 0.0127\n",
      "Epoch 2/100\n",
      "\u001B[1m363/363\u001B[0m \u001B[32m━━━━━━━━━━━━━━━━━━━━\u001B[0m\u001B[37m\u001B[0m \u001B[1m1s\u001B[0m 3ms/step - loss: 0.0130 - val_loss: 0.0068\n",
      "Epoch 3/100\n",
      "\u001B[1m363/363\u001B[0m \u001B[32m━━━━━━━━━━━━━━━━━━━━\u001B[0m\u001B[37m\u001B[0m \u001B[1m1s\u001B[0m 3ms/step - loss: 0.0110 - val_loss: 0.0095\n",
      "Epoch 4/100\n",
      "\u001B[1m363/363\u001B[0m \u001B[32m━━━━━━━━━━━━━━━━━━━━\u001B[0m\u001B[37m\u001B[0m \u001B[1m1s\u001B[0m 3ms/step - loss: 0.0094 - val_loss: 0.0073\n",
      "Epoch 5/100\n",
      "\u001B[1m363/363\u001B[0m \u001B[32m━━━━━━━━━━━━━━━━━━━━\u001B[0m\u001B[37m\u001B[0m \u001B[1m1s\u001B[0m 3ms/step - loss: 0.0088 - val_loss: 0.0069\n",
      "Epoch 6/100\n",
      "\u001B[1m363/363\u001B[0m \u001B[32m━━━━━━━━━━━━━━━━━━━━\u001B[0m\u001B[37m\u001B[0m \u001B[1m1s\u001B[0m 3ms/step - loss: 0.0086 - val_loss: 0.0063\n",
      "Epoch 7/100\n",
      "\u001B[1m363/363\u001B[0m \u001B[32m━━━━━━━━━━━━━━━━━━━━\u001B[0m\u001B[37m\u001B[0m \u001B[1m1s\u001B[0m 3ms/step - loss: 0.0085 - val_loss: 0.0061\n",
      "Epoch 8/100\n",
      "\u001B[1m363/363\u001B[0m \u001B[32m━━━━━━━━━━━━━━━━━━━━\u001B[0m\u001B[37m\u001B[0m \u001B[1m1s\u001B[0m 3ms/step - loss: 0.0076 - val_loss: 0.0062\n",
      "Epoch 9/100\n",
      "\u001B[1m363/363\u001B[0m \u001B[32m━━━━━━━━━━━━━━━━━━━━\u001B[0m\u001B[37m\u001B[0m \u001B[1m1s\u001B[0m 3ms/step - loss: 0.0076 - val_loss: 0.0062\n",
      "Epoch 10/100\n",
      "\u001B[1m363/363\u001B[0m \u001B[32m━━━━━━━━━━━━━━━━━━━━\u001B[0m\u001B[37m\u001B[0m \u001B[1m1s\u001B[0m 3ms/step - loss: 0.0076 - val_loss: 0.0064\n",
      "Epoch 11/100\n",
      "\u001B[1m363/363\u001B[0m \u001B[32m━━━━━━━━━━━━━━━━━━━━\u001B[0m\u001B[37m\u001B[0m \u001B[1m1s\u001B[0m 3ms/step - loss: 0.0074 - val_loss: 0.0070\n",
      "Epoch 12/100\n",
      "\u001B[1m363/363\u001B[0m \u001B[32m━━━━━━━━━━━━━━━━━━━━\u001B[0m\u001B[37m\u001B[0m \u001B[1m1s\u001B[0m 3ms/step - loss: 0.0070 - val_loss: 0.0058\n",
      "Epoch 13/100\n",
      "\u001B[1m363/363\u001B[0m \u001B[32m━━━━━━━━━━━━━━━━━━━━\u001B[0m\u001B[37m\u001B[0m \u001B[1m1s\u001B[0m 3ms/step - loss: 0.0070 - val_loss: 0.0058\n",
      "Epoch 14/100\n",
      "\u001B[1m363/363\u001B[0m \u001B[32m━━━━━━━━━━━━━━━━━━━━\u001B[0m\u001B[37m\u001B[0m \u001B[1m1s\u001B[0m 3ms/step - loss: 0.0070 - val_loss: 0.0056\n",
      "Epoch 15/100\n",
      "\u001B[1m363/363\u001B[0m \u001B[32m━━━━━━━━━━━━━━━━━━━━\u001B[0m\u001B[37m\u001B[0m \u001B[1m1s\u001B[0m 3ms/step - loss: 0.0068 - val_loss: 0.0057\n",
      "Epoch 16/100\n",
      "\u001B[1m363/363\u001B[0m \u001B[32m━━━━━━━━━━━━━━━━━━━━\u001B[0m\u001B[37m\u001B[0m \u001B[1m1s\u001B[0m 3ms/step - loss: 0.0066 - val_loss: 0.0057\n",
      "Epoch 17/100\n",
      "\u001B[1m363/363\u001B[0m \u001B[32m━━━━━━━━━━━━━━━━━━━━\u001B[0m\u001B[37m\u001B[0m \u001B[1m1s\u001B[0m 3ms/step - loss: 0.0063 - val_loss: 0.0055\n",
      "Epoch 18/100\n",
      "\u001B[1m363/363\u001B[0m \u001B[32m━━━━━━━━━━━━━━━━━━━━\u001B[0m\u001B[37m\u001B[0m \u001B[1m1s\u001B[0m 3ms/step - loss: 0.0066 - val_loss: 0.0055\n",
      "Epoch 19/100\n",
      "\u001B[1m363/363\u001B[0m \u001B[32m━━━━━━━━━━━━━━━━━━━━\u001B[0m\u001B[37m\u001B[0m \u001B[1m1s\u001B[0m 3ms/step - loss: 0.0066 - val_loss: 0.0062\n",
      "Epoch 20/100\n",
      "\u001B[1m363/363\u001B[0m \u001B[32m━━━━━━━━━━━━━━━━━━━━\u001B[0m\u001B[37m\u001B[0m \u001B[1m1s\u001B[0m 3ms/step - loss: 0.0066 - val_loss: 0.0059\n",
      "Epoch 21/100\n",
      "\u001B[1m363/363\u001B[0m \u001B[32m━━━━━━━━━━━━━━━━━━━━\u001B[0m\u001B[37m\u001B[0m \u001B[1m1s\u001B[0m 3ms/step - loss: 0.0064 - val_loss: 0.0060\n",
      "Epoch 22/100\n",
      "\u001B[1m363/363\u001B[0m \u001B[32m━━━━━━━━━━━━━━━━━━━━\u001B[0m\u001B[37m\u001B[0m \u001B[1m1s\u001B[0m 3ms/step - loss: 0.0063 - val_loss: 0.0073\n",
      "Epoch 23/100\n",
      "\u001B[1m363/363\u001B[0m \u001B[32m━━━━━━━━━━━━━━━━━━━━\u001B[0m\u001B[37m\u001B[0m \u001B[1m1s\u001B[0m 3ms/step - loss: 0.0064 - val_loss: 0.0055\n",
      "Epoch 24/100\n",
      "\u001B[1m363/363\u001B[0m \u001B[32m━━━━━━━━━━━━━━━━━━━━\u001B[0m\u001B[37m\u001B[0m \u001B[1m1s\u001B[0m 3ms/step - loss: 0.0063 - val_loss: 0.0060\n",
      "Epoch 25/100\n",
      "\u001B[1m363/363\u001B[0m \u001B[32m━━━━━━━━━━━━━━━━━━━━\u001B[0m\u001B[37m\u001B[0m \u001B[1m1s\u001B[0m 3ms/step - loss: 0.0062 - val_loss: 0.0056\n",
      "Epoch 26/100\n",
      "\u001B[1m363/363\u001B[0m \u001B[32m━━━━━━━━━━━━━━━━━━━━\u001B[0m\u001B[37m\u001B[0m \u001B[1m1s\u001B[0m 3ms/step - loss: 0.0064 - val_loss: 0.0067\n",
      "Epoch 27/100\n",
      "\u001B[1m363/363\u001B[0m \u001B[32m━━━━━━━━━━━━━━━━━━━━\u001B[0m\u001B[37m\u001B[0m \u001B[1m1s\u001B[0m 3ms/step - loss: 0.0061 - val_loss: 0.0054\n",
      "Epoch 28/100\n",
      "\u001B[1m363/363\u001B[0m \u001B[32m━━━━━━━━━━━━━━━━━━━━\u001B[0m\u001B[37m\u001B[0m \u001B[1m1s\u001B[0m 3ms/step - loss: 0.0065 - val_loss: 0.0054\n",
      "Epoch 29/100\n",
      "\u001B[1m363/363\u001B[0m \u001B[32m━━━━━━━━━━━━━━━━━━━━\u001B[0m\u001B[37m\u001B[0m \u001B[1m1s\u001B[0m 3ms/step - loss: 0.0062 - val_loss: 0.0058\n",
      "Epoch 30/100\n",
      "\u001B[1m363/363\u001B[0m \u001B[32m━━━━━━━━━━━━━━━━━━━━\u001B[0m\u001B[37m\u001B[0m \u001B[1m1s\u001B[0m 3ms/step - loss: 0.0062 - val_loss: 0.0057\n",
      "Epoch 31/100\n",
      "\u001B[1m363/363\u001B[0m \u001B[32m━━━━━━━━━━━━━━━━━━━━\u001B[0m\u001B[37m\u001B[0m \u001B[1m1s\u001B[0m 3ms/step - loss: 0.0062 - val_loss: 0.0052\n",
      "Epoch 32/100\n",
      "\u001B[1m363/363\u001B[0m \u001B[32m━━━━━━━━━━━━━━━━━━━━\u001B[0m\u001B[37m\u001B[0m \u001B[1m1s\u001B[0m 3ms/step - loss: 0.0062 - val_loss: 0.0057\n",
      "Epoch 33/100\n",
      "\u001B[1m363/363\u001B[0m \u001B[32m━━━━━━━━━━━━━━━━━━━━\u001B[0m\u001B[37m\u001B[0m \u001B[1m1s\u001B[0m 3ms/step - loss: 0.0057 - val_loss: 0.0060\n",
      "Epoch 34/100\n",
      "\u001B[1m363/363\u001B[0m \u001B[32m━━━━━━━━━━━━━━━━━━━━\u001B[0m\u001B[37m\u001B[0m \u001B[1m1s\u001B[0m 3ms/step - loss: 0.0058 - val_loss: 0.0056\n",
      "Epoch 35/100\n",
      "\u001B[1m363/363\u001B[0m \u001B[32m━━━━━━━━━━━━━━━━━━━━\u001B[0m\u001B[37m\u001B[0m \u001B[1m1s\u001B[0m 3ms/step - loss: 0.0056 - val_loss: 0.0070\n",
      "Epoch 36/100\n",
      "\u001B[1m363/363\u001B[0m \u001B[32m━━━━━━━━━━━━━━━━━━━━\u001B[0m\u001B[37m\u001B[0m \u001B[1m1s\u001B[0m 3ms/step - loss: 0.0060 - val_loss: 0.0072\n",
      "Epoch 37/100\n",
      "\u001B[1m363/363\u001B[0m \u001B[32m━━━━━━━━━━━━━━━━━━━━\u001B[0m\u001B[37m\u001B[0m \u001B[1m1s\u001B[0m 3ms/step - loss: 0.0062 - val_loss: 0.0052\n",
      "Epoch 38/100\n",
      "\u001B[1m363/363\u001B[0m \u001B[32m━━━━━━━━━━━━━━━━━━━━\u001B[0m\u001B[37m\u001B[0m \u001B[1m1s\u001B[0m 3ms/step - loss: 0.0060 - val_loss: 0.0058\n",
      "Epoch 39/100\n",
      "\u001B[1m363/363\u001B[0m \u001B[32m━━━━━━━━━━━━━━━━━━━━\u001B[0m\u001B[37m\u001B[0m \u001B[1m1s\u001B[0m 3ms/step - loss: 0.0061 - val_loss: 0.0058\n",
      "Epoch 40/100\n",
      "\u001B[1m363/363\u001B[0m \u001B[32m━━━━━━━━━━━━━━━━━━━━\u001B[0m\u001B[37m\u001B[0m \u001B[1m1s\u001B[0m 3ms/step - loss: 0.0059 - val_loss: 0.0053\n",
      "Epoch 41/100\n",
      "\u001B[1m363/363\u001B[0m \u001B[32m━━━━━━━━━━━━━━━━━━━━\u001B[0m\u001B[37m\u001B[0m \u001B[1m1s\u001B[0m 3ms/step - loss: 0.0059 - val_loss: 0.0052\n",
      "Epoch 42/100\n",
      "\u001B[1m363/363\u001B[0m \u001B[32m━━━━━━━━━━━━━━━━━━━━\u001B[0m\u001B[37m\u001B[0m \u001B[1m1s\u001B[0m 3ms/step - loss: 0.0058 - val_loss: 0.0058\n",
      "Epoch 43/100\n",
      "\u001B[1m363/363\u001B[0m \u001B[32m━━━━━━━━━━━━━━━━━━━━\u001B[0m\u001B[37m\u001B[0m \u001B[1m1s\u001B[0m 3ms/step - loss: 0.0056 - val_loss: 0.0057\n",
      "Epoch 44/100\n",
      "\u001B[1m363/363\u001B[0m \u001B[32m━━━━━━━━━━━━━━━━━━━━\u001B[0m\u001B[37m\u001B[0m \u001B[1m1s\u001B[0m 3ms/step - loss: 0.0058 - val_loss: 0.0059\n",
      "Epoch 45/100\n",
      "\u001B[1m363/363\u001B[0m \u001B[32m━━━━━━━━━━━━━━━━━━━━\u001B[0m\u001B[37m\u001B[0m \u001B[1m1s\u001B[0m 3ms/step - loss: 0.0057 - val_loss: 0.0055\n",
      "Epoch 46/100\n",
      "\u001B[1m363/363\u001B[0m \u001B[32m━━━━━━━━━━━━━━━━━━━━\u001B[0m\u001B[37m\u001B[0m \u001B[1m1s\u001B[0m 3ms/step - loss: 0.0058 - val_loss: 0.0065\n",
      "Epoch 47/100\n",
      "\u001B[1m363/363\u001B[0m \u001B[32m━━━━━━━━━━━━━━━━━━━━\u001B[0m\u001B[37m\u001B[0m \u001B[1m1s\u001B[0m 3ms/step - loss: 0.0060 - val_loss: 0.0062\n"
     ]
    }
   ],
   "execution_count": 221
  },
  {
   "metadata": {
    "ExecuteTime": {
     "end_time": "2024-12-16T21:42:40.945065Z",
     "start_time": "2024-12-16T21:42:40.941651Z"
    }
   },
   "cell_type": "code",
   "source": [
    "\n",
    "# Функция для предсказания температуры\n",
    "def predict_temperature(day, month, year):\n",
    "    # Преобразуем дату в массив\n",
    "    date_array = np.array([[day, month, year]])\n",
    "\n",
    "    # Масштабируем данные\n",
    "    scaled_date = scaler_X.transform(date_array)\n",
    "\n",
    "    # Получаем последний временной ряд длиной seq_len\n",
    "    last_sequence = np.concatenate((X_scaled[-seq_len:], scaled_date))\n",
    "\n",
    "    # Формируем последовательность для предсказания\n",
    "    prediction_input = last_sequence[-seq_len:]\n",
    "    prediction_input = prediction_input.reshape(1, seq_len, len(features_columns))\n",
    "\n",
    "    # Делаем предсказание\n",
    "    predicted_scaled_temp = model.predict(prediction_input)\n",
    "\n",
    "    # Обратная трансформация результата\n",
    "    predicted_temp = scaler_y.inverse_transform(predicted_scaled_temp)[0][0]\n",
    "\n",
    "    return predicted_temp"
   ],
   "id": "7fee036c8bb0b56d",
   "outputs": [],
   "execution_count": 222
  },
  {
   "metadata": {
    "ExecuteTime": {
     "end_time": "2024-12-16T21:43:02.462759Z",
     "start_time": "2024-12-16T21:43:02.418741Z"
    }
   },
   "cell_type": "code",
   "source": [
    "\n",
    "# Пример использования функции\n",
    "predicted_temp = predict_temperature(1, 6, 2024)\n",
    "print(f'Прогнозируемая температура: {predicted_temp:.2f}')"
   ],
   "id": "64c71b02276b2ec5",
   "outputs": [
    {
     "name": "stdout",
     "output_type": "stream",
     "text": [
      "\u001B[1m1/1\u001B[0m \u001B[32m━━━━━━━━━━━━━━━━━━━━\u001B[0m\u001B[37m\u001B[0m \u001B[1m0s\u001B[0m 18ms/step\n",
      "Прогнозируемая температура: -4.49\n"
     ]
    }
   ],
   "execution_count": 225
  }
 ],
 "metadata": {
  "kernelspec": {
   "display_name": "Python 3",
   "language": "python",
   "name": "python3"
  },
  "language_info": {
   "codemirror_mode": {
    "name": "ipython",
    "version": 2
   },
   "file_extension": ".py",
   "mimetype": "text/x-python",
   "name": "python",
   "nbconvert_exporter": "python",
   "pygments_lexer": "ipython2",
   "version": "2.7.6"
  }
 },
 "nbformat": 4,
 "nbformat_minor": 5
}
