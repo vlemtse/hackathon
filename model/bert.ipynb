{
 "cells": [
  {
   "cell_type": "code",
   "execution_count": 6,
   "id": "initial_id",
   "metadata": {
    "ExecuteTime": {
     "end_time": "2024-12-17T21:28:39.774258Z",
     "start_time": "2024-12-17T21:28:35.191117Z"
    },
    "collapsed": true
   },
   "outputs": [],
   "source": [
    "import re\n",
    "\n",
    "import pandas as pd\n",
    "import numpy as np\n",
    "from sklearn.model_selection import train_test_split\n",
    "from sklearn.preprocessing import StandardScaler\n",
    "from transformers import BertTokenizer, TFBertModel, TFAutoModelForSequenceClassification\n",
    "from tensorflow.keras.layers import Input, Dense, Dropout\n",
    "from tensorflow.keras.models import Model\n",
    "from tensorflow.keras.optimizers import Adam\n",
    "import torch"
   ]
  },
  {
   "cell_type": "code",
   "execution_count": 2,
   "id": "bf9593d832ac4aea",
   "metadata": {
    "ExecuteTime": {
     "end_time": "2024-12-17T21:28:39.977912Z",
     "start_time": "2024-12-17T21:28:39.781263Z"
    }
   },
   "outputs": [
    {
     "data": {
      "text/html": [
       "<div>\n",
       "<style scoped>\n",
       "    .dataframe tbody tr th:only-of-type {\n",
       "        vertical-align: middle;\n",
       "    }\n",
       "\n",
       "    .dataframe tbody tr th {\n",
       "        vertical-align: top;\n",
       "    }\n",
       "\n",
       "    .dataframe thead th {\n",
       "        text-align: right;\n",
       "    }\n",
       "</style>\n",
       "<table border=\"1\" class=\"dataframe\">\n",
       "  <thead>\n",
       "    <tr style=\"text-align: right;\">\n",
       "      <th></th>\n",
       "      <th>T</th>\n",
       "      <th>N</th>\n",
       "      <th>RRR</th>\n",
       "      <th>date_time</th>\n",
       "    </tr>\n",
       "  </thead>\n",
       "  <tbody>\n",
       "    <tr>\n",
       "      <th>0</th>\n",
       "      <td>-1.3</td>\n",
       "      <td>100%.</td>\n",
       "      <td>3.0</td>\n",
       "      <td>16.12.2024 21:00</td>\n",
       "    </tr>\n",
       "    <tr>\n",
       "      <th>1</th>\n",
       "      <td>-2.0</td>\n",
       "      <td>100%.</td>\n",
       "      <td>2.0</td>\n",
       "      <td>16.12.2024 18:00</td>\n",
       "    </tr>\n",
       "    <tr>\n",
       "      <th>2</th>\n",
       "      <td>-1.3</td>\n",
       "      <td>100%.</td>\n",
       "      <td>0.0</td>\n",
       "      <td>16.12.2024 15:00</td>\n",
       "    </tr>\n",
       "    <tr>\n",
       "      <th>3</th>\n",
       "      <td>-1.0</td>\n",
       "      <td>100%.</td>\n",
       "      <td>0.0</td>\n",
       "      <td>16.12.2024 12:00</td>\n",
       "    </tr>\n",
       "    <tr>\n",
       "      <th>4</th>\n",
       "      <td>-0.9</td>\n",
       "      <td>100%.</td>\n",
       "      <td>0.4</td>\n",
       "      <td>16.12.2024 09:00</td>\n",
       "    </tr>\n",
       "    <tr>\n",
       "      <th>...</th>\n",
       "      <td>...</td>\n",
       "      <td>...</td>\n",
       "      <td>...</td>\n",
       "      <td>...</td>\n",
       "    </tr>\n",
       "    <tr>\n",
       "      <th>67385</th>\n",
       "      <td>-6.6</td>\n",
       "      <td>100%.</td>\n",
       "      <td>0.0</td>\n",
       "      <td>01.02.2005 15:00</td>\n",
       "    </tr>\n",
       "    <tr>\n",
       "      <th>67386</th>\n",
       "      <td>-7.1</td>\n",
       "      <td>90  или более, но не 100%</td>\n",
       "      <td>0.0</td>\n",
       "      <td>01.02.2005 12:00</td>\n",
       "    </tr>\n",
       "    <tr>\n",
       "      <th>67387</th>\n",
       "      <td>-8.6</td>\n",
       "      <td>100%.</td>\n",
       "      <td>3.0</td>\n",
       "      <td>01.02.2005 09:00</td>\n",
       "    </tr>\n",
       "    <tr>\n",
       "      <th>67388</th>\n",
       "      <td>-8.2</td>\n",
       "      <td>100%.</td>\n",
       "      <td>2.0</td>\n",
       "      <td>01.02.2005 06:00</td>\n",
       "    </tr>\n",
       "    <tr>\n",
       "      <th>67389</th>\n",
       "      <td>-8.6</td>\n",
       "      <td>100%.</td>\n",
       "      <td>0.0</td>\n",
       "      <td>01.02.2005 03:00</td>\n",
       "    </tr>\n",
       "  </tbody>\n",
       "</table>\n",
       "<p>67390 rows × 4 columns</p>\n",
       "</div>"
      ],
      "text/plain": [
       "         T                          N  RRR         date_time\n",
       "0     -1.3                      100%.  3.0  16.12.2024 21:00\n",
       "1     -2.0                      100%.  2.0  16.12.2024 18:00\n",
       "2     -1.3                      100%.  0.0  16.12.2024 15:00\n",
       "3     -1.0                      100%.  0.0  16.12.2024 12:00\n",
       "4     -0.9                      100%.  0.4  16.12.2024 09:00\n",
       "...    ...                        ...  ...               ...\n",
       "67385 -6.6                      100%.  0.0  01.02.2005 15:00\n",
       "67386 -7.1  90  или более, но не 100%  0.0  01.02.2005 12:00\n",
       "67387 -8.6                      100%.  3.0  01.02.2005 09:00\n",
       "67388 -8.2                      100%.  2.0  01.02.2005 06:00\n",
       "67389 -8.6                      100%.  0.0  01.02.2005 03:00\n",
       "\n",
       "[67390 rows x 4 columns]"
      ]
     },
     "execution_count": 2,
     "metadata": {},
     "output_type": "execute_result"
    }
   ],
   "source": [
    "df = pd.read_csv('data/weather.csv', sep=';', usecols=[1, 10, 23])\n",
    "df['date_time'] = df.index\n",
    "df.reset_index(drop=True, inplace=True)\n",
    "df['RRR'] = df['RRR'].fillna(0.0)\n",
    "df"
   ]
  },
  {
   "cell_type": "code",
   "execution_count": 3,
   "id": "5887210ca80ec2e9",
   "metadata": {
    "ExecuteTime": {
     "end_time": "2024-12-17T21:28:40.026256Z",
     "start_time": "2024-12-17T21:28:39.995930Z"
    }
   },
   "outputs": [
    {
     "data": {
      "text/html": [
       "<div>\n",
       "<style scoped>\n",
       "    .dataframe tbody tr th:only-of-type {\n",
       "        vertical-align: middle;\n",
       "    }\n",
       "\n",
       "    .dataframe tbody tr th {\n",
       "        vertical-align: top;\n",
       "    }\n",
       "\n",
       "    .dataframe thead th {\n",
       "        text-align: right;\n",
       "    }\n",
       "</style>\n",
       "<table border=\"1\" class=\"dataframe\">\n",
       "  <thead>\n",
       "    <tr style=\"text-align: right;\">\n",
       "      <th></th>\n",
       "      <th>N</th>\n",
       "      <th>date_time</th>\n",
       "      <th>temperature</th>\n",
       "      <th>precipitation</th>\n",
       "    </tr>\n",
       "  </thead>\n",
       "  <tbody>\n",
       "    <tr>\n",
       "      <th>0</th>\n",
       "      <td>100%.</td>\n",
       "      <td>16.12.2024 21:00</td>\n",
       "      <td>-1.3</td>\n",
       "      <td>3.0</td>\n",
       "    </tr>\n",
       "    <tr>\n",
       "      <th>1</th>\n",
       "      <td>100%.</td>\n",
       "      <td>16.12.2024 18:00</td>\n",
       "      <td>-2.0</td>\n",
       "      <td>2.0</td>\n",
       "    </tr>\n",
       "    <tr>\n",
       "      <th>2</th>\n",
       "      <td>100%.</td>\n",
       "      <td>16.12.2024 15:00</td>\n",
       "      <td>-1.3</td>\n",
       "      <td>0.0</td>\n",
       "    </tr>\n",
       "    <tr>\n",
       "      <th>3</th>\n",
       "      <td>100%.</td>\n",
       "      <td>16.12.2024 12:00</td>\n",
       "      <td>-1.0</td>\n",
       "      <td>0.0</td>\n",
       "    </tr>\n",
       "    <tr>\n",
       "      <th>4</th>\n",
       "      <td>100%.</td>\n",
       "      <td>16.12.2024 09:00</td>\n",
       "      <td>-0.9</td>\n",
       "      <td>0.4</td>\n",
       "    </tr>\n",
       "    <tr>\n",
       "      <th>...</th>\n",
       "      <td>...</td>\n",
       "      <td>...</td>\n",
       "      <td>...</td>\n",
       "      <td>...</td>\n",
       "    </tr>\n",
       "    <tr>\n",
       "      <th>67385</th>\n",
       "      <td>100%.</td>\n",
       "      <td>01.02.2005 15:00</td>\n",
       "      <td>-6.6</td>\n",
       "      <td>0.0</td>\n",
       "    </tr>\n",
       "    <tr>\n",
       "      <th>67386</th>\n",
       "      <td>90  или более, но не 100%</td>\n",
       "      <td>01.02.2005 12:00</td>\n",
       "      <td>-7.1</td>\n",
       "      <td>0.0</td>\n",
       "    </tr>\n",
       "    <tr>\n",
       "      <th>67387</th>\n",
       "      <td>100%.</td>\n",
       "      <td>01.02.2005 09:00</td>\n",
       "      <td>-8.6</td>\n",
       "      <td>3.0</td>\n",
       "    </tr>\n",
       "    <tr>\n",
       "      <th>67388</th>\n",
       "      <td>100%.</td>\n",
       "      <td>01.02.2005 06:00</td>\n",
       "      <td>-8.2</td>\n",
       "      <td>2.0</td>\n",
       "    </tr>\n",
       "    <tr>\n",
       "      <th>67389</th>\n",
       "      <td>100%.</td>\n",
       "      <td>01.02.2005 03:00</td>\n",
       "      <td>-8.6</td>\n",
       "      <td>0.0</td>\n",
       "    </tr>\n",
       "  </tbody>\n",
       "</table>\n",
       "<p>67390 rows × 4 columns</p>\n",
       "</div>"
      ],
      "text/plain": [
       "                               N         date_time  temperature  precipitation\n",
       "0                          100%.  16.12.2024 21:00         -1.3            3.0\n",
       "1                          100%.  16.12.2024 18:00         -2.0            2.0\n",
       "2                          100%.  16.12.2024 15:00         -1.3            0.0\n",
       "3                          100%.  16.12.2024 12:00         -1.0            0.0\n",
       "4                          100%.  16.12.2024 09:00         -0.9            0.4\n",
       "...                          ...               ...          ...            ...\n",
       "67385                      100%.  01.02.2005 15:00         -6.6            0.0\n",
       "67386  90  или более, но не 100%  01.02.2005 12:00         -7.1            0.0\n",
       "67387                      100%.  01.02.2005 09:00         -8.6            3.0\n",
       "67388                      100%.  01.02.2005 06:00         -8.2            2.0\n",
       "67389                      100%.  01.02.2005 03:00         -8.6            0.0\n",
       "\n",
       "[67390 rows x 4 columns]"
      ]
     },
     "execution_count": 3,
     "metadata": {},
     "output_type": "execute_result"
    }
   ],
   "source": [
    "def replace_str_with_zero(value):\n",
    "    try:\n",
    "        np.float64(value)\n",
    "        return value\n",
    "    except ValueError:\n",
    "        return np.float64(0)\n",
    "\n",
    "# Применяем функцию ко всем значениям в столбце RRR\n",
    "df['RRR'] = df['RRR'].apply(replace_str_with_zero)\n",
    "df['temperature'] = df['T'].astype(np.float64)\n",
    "df['precipitation'] = df['RRR'].astype(np.float64)\n",
    "\n",
    "del df['T']\n",
    "del df['RRR']\n",
    "df"
   ]
  },
  {
   "cell_type": "code",
   "execution_count": 5,
   "id": "9c3ba33214febf06",
   "metadata": {
    "ExecuteTime": {
     "end_time": "2024-12-17T21:28:40.042933Z",
     "start_time": "2024-12-17T21:28:40.040578Z"
    }
   },
   "outputs": [],
   "source": [
    "# df['date_time'] = pd.to_datetime(df['date_time'], dayfirst=True)\n",
    "# df['date_time'] = df['date_time'].astype(np.int64)\n",
    "# df['timestamp'] = df['date_time'].apply(lambda x: pd.Timestamp(x))"
   ]
  },
  {
   "cell_type": "code",
   "execution_count": 6,
   "id": "62837b9ff5319282",
   "metadata": {
    "ExecuteTime": {
     "end_time": "2024-12-17T21:28:40.081334Z",
     "start_time": "2024-12-17T21:28:40.078938Z"
    }
   },
   "outputs": [],
   "source": [
    "# del df['date_time']"
   ]
  },
  {
   "cell_type": "code",
   "execution_count": 4,
   "id": "e432ff0c99973b56",
   "metadata": {
    "ExecuteTime": {
     "end_time": "2024-12-17T21:28:40.100196Z",
     "start_time": "2024-12-17T21:28:40.094705Z"
    }
   },
   "outputs": [
    {
     "data": {
      "text/html": [
       "<div>\n",
       "<style scoped>\n",
       "    .dataframe tbody tr th:only-of-type {\n",
       "        vertical-align: middle;\n",
       "    }\n",
       "\n",
       "    .dataframe tbody tr th {\n",
       "        vertical-align: top;\n",
       "    }\n",
       "\n",
       "    .dataframe thead th {\n",
       "        text-align: right;\n",
       "    }\n",
       "</style>\n",
       "<table border=\"1\" class=\"dataframe\">\n",
       "  <thead>\n",
       "    <tr style=\"text-align: right;\">\n",
       "      <th></th>\n",
       "      <th>N</th>\n",
       "      <th>date_time</th>\n",
       "      <th>temperature</th>\n",
       "      <th>precipitation</th>\n",
       "    </tr>\n",
       "  </thead>\n",
       "  <tbody>\n",
       "    <tr>\n",
       "      <th>0</th>\n",
       "      <td>100%.</td>\n",
       "      <td>16.12.2024 21:00</td>\n",
       "      <td>-1.3</td>\n",
       "      <td>3.0</td>\n",
       "    </tr>\n",
       "    <tr>\n",
       "      <th>1</th>\n",
       "      <td>100%.</td>\n",
       "      <td>16.12.2024 18:00</td>\n",
       "      <td>-2.0</td>\n",
       "      <td>2.0</td>\n",
       "    </tr>\n",
       "    <tr>\n",
       "      <th>2</th>\n",
       "      <td>100%.</td>\n",
       "      <td>16.12.2024 15:00</td>\n",
       "      <td>-1.3</td>\n",
       "      <td>0.0</td>\n",
       "    </tr>\n",
       "    <tr>\n",
       "      <th>3</th>\n",
       "      <td>100%.</td>\n",
       "      <td>16.12.2024 12:00</td>\n",
       "      <td>-1.0</td>\n",
       "      <td>0.0</td>\n",
       "    </tr>\n",
       "    <tr>\n",
       "      <th>4</th>\n",
       "      <td>100%.</td>\n",
       "      <td>16.12.2024 09:00</td>\n",
       "      <td>-0.9</td>\n",
       "      <td>0.4</td>\n",
       "    </tr>\n",
       "    <tr>\n",
       "      <th>...</th>\n",
       "      <td>...</td>\n",
       "      <td>...</td>\n",
       "      <td>...</td>\n",
       "      <td>...</td>\n",
       "    </tr>\n",
       "    <tr>\n",
       "      <th>67385</th>\n",
       "      <td>100%.</td>\n",
       "      <td>01.02.2005 15:00</td>\n",
       "      <td>-6.6</td>\n",
       "      <td>0.0</td>\n",
       "    </tr>\n",
       "    <tr>\n",
       "      <th>67386</th>\n",
       "      <td>90  или более, но не 100%</td>\n",
       "      <td>01.02.2005 12:00</td>\n",
       "      <td>-7.1</td>\n",
       "      <td>0.0</td>\n",
       "    </tr>\n",
       "    <tr>\n",
       "      <th>67387</th>\n",
       "      <td>100%.</td>\n",
       "      <td>01.02.2005 09:00</td>\n",
       "      <td>-8.6</td>\n",
       "      <td>3.0</td>\n",
       "    </tr>\n",
       "    <tr>\n",
       "      <th>67388</th>\n",
       "      <td>100%.</td>\n",
       "      <td>01.02.2005 06:00</td>\n",
       "      <td>-8.2</td>\n",
       "      <td>2.0</td>\n",
       "    </tr>\n",
       "    <tr>\n",
       "      <th>67389</th>\n",
       "      <td>100%.</td>\n",
       "      <td>01.02.2005 03:00</td>\n",
       "      <td>-8.6</td>\n",
       "      <td>0.0</td>\n",
       "    </tr>\n",
       "  </tbody>\n",
       "</table>\n",
       "<p>67390 rows × 4 columns</p>\n",
       "</div>"
      ],
      "text/plain": [
       "                               N         date_time  temperature  precipitation\n",
       "0                          100%.  16.12.2024 21:00         -1.3            3.0\n",
       "1                          100%.  16.12.2024 18:00         -2.0            2.0\n",
       "2                          100%.  16.12.2024 15:00         -1.3            0.0\n",
       "3                          100%.  16.12.2024 12:00         -1.0            0.0\n",
       "4                          100%.  16.12.2024 09:00         -0.9            0.4\n",
       "...                          ...               ...          ...            ...\n",
       "67385                      100%.  01.02.2005 15:00         -6.6            0.0\n",
       "67386  90  или более, но не 100%  01.02.2005 12:00         -7.1            0.0\n",
       "67387                      100%.  01.02.2005 09:00         -8.6            3.0\n",
       "67388                      100%.  01.02.2005 06:00         -8.2            2.0\n",
       "67389                      100%.  01.02.2005 03:00         -8.6            0.0\n",
       "\n",
       "[67390 rows x 4 columns]"
      ]
     },
     "execution_count": 4,
     "metadata": {},
     "output_type": "execute_result"
    }
   ],
   "source": [
    "df"
   ]
  },
  {
   "cell_type": "code",
   "execution_count": 5,
   "id": "561cfaea202d85ce",
   "metadata": {
    "ExecuteTime": {
     "end_time": "2024-12-17T21:28:40.205115Z",
     "start_time": "2024-12-17T21:28:40.135556Z"
    }
   },
   "outputs": [],
   "source": [
    "def prep_n(text):\n",
    "    text = str(text)\n",
    "    f = re.findall(r'\\d+', text)\n",
    "    if len(f):\n",
    "        return np.int32(f[0])\n",
    "    else:\n",
    "        return np.int32(0)\n",
    "df['cloudiness'] = df['N'].apply(lambda x: prep_n(x))"
   ]
  },
  {
   "cell_type": "code",
   "execution_count": 6,
   "id": "430c5fabf07db264",
   "metadata": {
    "ExecuteTime": {
     "end_time": "2024-12-17T21:28:40.229955Z",
     "start_time": "2024-12-17T21:28:40.225265Z"
    }
   },
   "outputs": [],
   "source": [
    "df = df[df['temperature'].notna()]"
   ]
  },
  {
   "cell_type": "code",
   "execution_count": 7,
   "id": "1743fb394671d5bb",
   "metadata": {
    "ExecuteTime": {
     "end_time": "2024-12-17T21:28:40.250471Z",
     "start_time": "2024-12-17T21:28:40.247682Z"
    }
   },
   "outputs": [],
   "source": [
    "del df['N']"
   ]
  },
  {
   "cell_type": "code",
   "execution_count": 8,
   "id": "d8f311839a6b6c2f",
   "metadata": {
    "ExecuteTime": {
     "end_time": "2024-12-17T21:28:40.275375Z",
     "start_time": "2024-12-17T21:28:40.273054Z"
    }
   },
   "outputs": [],
   "source": [
    "df.reset_index(drop=True, inplace=True)"
   ]
  },
  {
   "cell_type": "code",
   "execution_count": 9,
   "id": "ba8841de4fb47563",
   "metadata": {
    "ExecuteTime": {
     "end_time": "2024-12-17T21:28:46.020970Z",
     "start_time": "2024-12-17T21:28:40.286298Z"
    }
   },
   "outputs": [
    {
     "data": {
      "application/vnd.jupyter.widget-view+json": {
       "model_id": "c2e0ea75b18f4000be7af53454f116b7",
       "version_major": 2,
       "version_minor": 0
      },
      "text/plain": [
       "tokenizer_config.json:   0%|          | 0.00/48.0 [00:00<?, ?B/s]"
      ]
     },
     "metadata": {},
     "output_type": "display_data"
    },
    {
     "data": {
      "application/vnd.jupyter.widget-view+json": {
       "model_id": "1bc1d447ee45487097115397f873d8e1",
       "version_major": 2,
       "version_minor": 0
      },
      "text/plain": [
       "vocab.txt:   0%|          | 0.00/232k [00:00<?, ?B/s]"
      ]
     },
     "metadata": {},
     "output_type": "display_data"
    },
    {
     "data": {
      "application/vnd.jupyter.widget-view+json": {
       "model_id": "2a07a9891d3a4f3da57a6e9a416eb077",
       "version_major": 2,
       "version_minor": 0
      },
      "text/plain": [
       "tokenizer.json:   0%|          | 0.00/466k [00:00<?, ?B/s]"
      ]
     },
     "metadata": {},
     "output_type": "display_data"
    },
    {
     "data": {
      "application/vnd.jupyter.widget-view+json": {
       "model_id": "c38343018fee4931be1516b301df225a",
       "version_major": 2,
       "version_minor": 0
      },
      "text/plain": [
       "config.json:   0%|          | 0.00/570 [00:00<?, ?B/s]"
      ]
     },
     "metadata": {},
     "output_type": "display_data"
    },
    {
     "data": {
      "application/vnd.jupyter.widget-view+json": {
       "model_id": "511fe5f4582d48ff9cf0c8106c7efa46",
       "version_major": 2,
       "version_minor": 0
      },
      "text/plain": [
       "model.safetensors:   0%|          | 0.00/440M [00:00<?, ?B/s]"
      ]
     },
     "metadata": {},
     "output_type": "display_data"
    },
    {
     "name": "stderr",
     "output_type": "stream",
     "text": [
      "Some weights of BertForSequenceClassification were not initialized from the model checkpoint at bert-base-uncased and are newly initialized: ['classifier.bias', 'classifier.weight']\n",
      "You should probably TRAIN this model on a down-stream task to be able to use it for predictions and inference.\n"
     ]
    },
    {
     "name": "stdout",
     "output_type": "stream",
     "text": [
      "Using device: cpu\n"
     ]
    },
    {
     "name": "stderr",
     "output_type": "stream",
     "text": [
      "We strongly recommend passing in an `attention_mask` since your input_ids may be padded. See https://huggingface.co/docs/transformers/troubleshooting#incorrect-output-when-padding-tokens-arent-masked.\n"
     ]
    },
    {
     "name": "stdout",
     "output_type": "stream",
     "text": [
      "Epoch 1, Loss: 25.321746826171875\n",
      "Epoch 2, Loss: -8.736536979675293\n",
      "Epoch 3, Loss: -16.22756004333496\n",
      "Predicted values for 2024-01-01: Temperature: -974.53369140625, Precipitation: -11.743810653686523, Cloudiness: -270.8409118652344\n"
     ]
    }
   ],
   "source": [
    "import numpy as np\n",
    "import torch\n",
    "from torch.utils.data import Dataset, DataLoader\n",
    "from transformers import BertTokenizer, BertForSequenceClassification\n",
    "from sklearn.model_selection import train_test_split\n",
    "from sklearn.preprocessing import StandardScaler\n",
    "\n",
    "# Токенизация и подготовка данных  \n",
    "tokenizer = BertTokenizer.from_pretrained('bert-base-uncased')\n",
    "encodings = tokenizer(df['date_time'].tolist(), truncation=True, padding=True, return_tensors='pt')\n",
    "\n",
    "# Нормализация целевых значений  \n",
    "scaler = StandardScaler()\n",
    "targets = scaler.fit_transform(df[['temperature', 'precipitation', 'cloudiness']].values)\n",
    "\n",
    "# Разделяем данные на обучающую и тестовую выборки  \n",
    "X_train, X_test, y_train, y_test = train_test_split(encodings['input_ids'], targets, test_size=0.2, random_state=42)\n",
    "\n",
    "# Создаем пользовательский датасет  \n",
    "class WeatherDataset(Dataset):\n",
    "    def __init__(self, inputs, targets):\n",
    "        self.inputs = inputs\n",
    "        self.targets = targets\n",
    "\n",
    "    def __len__(self):\n",
    "        return len(self.inputs)\n",
    "\n",
    "    def __getitem__(self, index):\n",
    "        return {\n",
    "            'input_ids': self.inputs[index],\n",
    "            'targets': torch.tensor(self.targets[index], dtype=torch.float32)\n",
    "        }\n",
    "\n",
    "    # Создаем датасеты  \n",
    "train_dataset = WeatherDataset(X_train, y_train)\n",
    "test_dataset = WeatherDataset(X_test, y_test)\n",
    "\n",
    "# Загружаем модель  \n",
    "model = BertForSequenceClassification.from_pretrained('bert-base-uncased', num_labels=3)\n",
    "\n",
    "device = torch.device(\"cuda\" if torch.cuda.is_available() else \"cpu\")\n",
    "print(f'Using device: {device}')\n",
    "# Переносим модель на GPU  \n",
    "model.to(device)\n",
    "\n",
    "# Определяем оптимизатор  \n",
    "optimizer = torch.optim.AdamW(model.parameters(), lr=5e-5)\n",
    "\n",
    "# Обучение модели  \n",
    "model.train()\n",
    "train_dataloader = DataLoader(train_dataset, batch_size=8, shuffle=True)\n",
    "\n",
    "for epoch in range(3):  # Количество эпох  \n",
    "    for batch in train_dataloader:\n",
    "        optimizer.zero_grad()\n",
    "        input_ids = batch['input_ids']\n",
    "        targets = batch['targets']\n",
    "\n",
    "        outputs = model(input_ids=input_ids, labels=targets)\n",
    "        loss = outputs.loss\n",
    "        loss.backward()\n",
    "        optimizer.step()\n",
    "    print(f'Epoch {epoch + 1}, Loss: {loss.item()}')\n",
    "\n",
    "# Сохраняем модель  \n",
    "model.save_pretrained('./weather_model')\n",
    "tokenizer.save_pretrained('./weather_tokenizer')\n",
    "\n",
    "# Функция предсказания  \n",
    "def predict_weather(date):\n",
    "    model.eval()\n",
    "    inputs = tokenizer([date], truncation=True, padding=True, return_tensors='pt')\n",
    "    with torch.no_grad():\n",
    "        outputs = model(**inputs)\n",
    "        predictions = outputs.logits.detach().numpy()\n",
    "    predicted_values = scaler.inverse_transform(predictions)  # Обратная нормализация  \n",
    "    return predicted_values\n",
    "\n",
    "# Пример использования  \n",
    "predicted_values = predict_weather('2024-01-01')\n",
    "print(f'Predicted values for 2024-01-01: Temperature: {predicted_values[0][0]}, '\n",
    "      f'Precipitation: {predicted_values[0][1]}, Cloudiness: {predicted_values[0][2]}')"
   ]
  },
  {
   "cell_type": "code",
   "execution_count": 10,
   "id": "103462f8d0e29286",
   "metadata": {
    "ExecuteTime": {
     "end_time": "2024-12-17T22:08:47.545848Z",
     "start_time": "2024-12-17T22:03:11.391759Z"
    }
   },
   "outputs": [
    {
     "name": "stderr",
     "output_type": "stream",
     "text": [
      "Some weights of BertForSequenceClassification were not initialized from the model checkpoint at bert-base-uncased and are newly initialized: ['classifier.bias', 'classifier.weight']\n",
      "You should probably TRAIN this model on a down-stream task to be able to use it for predictions and inference.\n"
     ]
    },
    {
     "name": "stdout",
     "output_type": "stream",
     "text": [
      "Epoch 1, Loss: 0.5715553164482117\n",
      "Epoch 2, Loss: 2.7141001224517822\n",
      "Epoch 3, Loss: 5.746023178100586\n",
      "Epoch 4, Loss: 0.035691678524017334\n"
     ]
    }
   ],
   "source": [
    "# Разделение данных на тренировочный и тестовый наборы  \n",
    "X_train, X_test, y_train, y_test = train_test_split(\n",
    "    df[['date_time']], df[['temperature', 'precipitation', 'cloudiness']], test_size=0.2, random_state=42\n",
    ")\n",
    "\n",
    "# Стандартизация целевых переменных  \n",
    "scaler = StandardScaler()\n",
    "y_train_scaled = scaler.fit_transform(y_train)\n",
    "y_test_scaled = scaler.transform(y_test)\n",
    "\n",
    "# Создание пользовательского датасета  \n",
    "class WeatherDataset(Dataset):\n",
    "    def __init__(self, texts, targets, tokenizer, max_length):\n",
    "        self.texts = texts\n",
    "        self.targets = targets\n",
    "        self.tokenizer = tokenizer\n",
    "        self.max_length = max_length\n",
    "\n",
    "    def __len__(self):\n",
    "        return len(self.texts)\n",
    "\n",
    "    def __getitem__(self, idx):\n",
    "        text = self.texts.iloc[idx]['date_time']\n",
    "        target = self.targets[idx]\n",
    "\n",
    "        encoding = self.tokenizer.encode_plus(\n",
    "            text,\n",
    "            add_special_tokens=True,\n",
    "            max_length=self.max_length,\n",
    "            return_token_type_ids=False,\n",
    "            padding='max_length',\n",
    "            return_attention_mask=True,\n",
    "            return_tensors='pt',\n",
    "            truncation=True,\n",
    "        )\n",
    "\n",
    "        return {\n",
    "            'input_ids': encoding['input_ids'].flatten(),\n",
    "            'attention_mask': encoding['attention_mask'].flatten(),\n",
    "            'targets': torch.tensor(target, dtype=torch.float)\n",
    "        }\n",
    "\n",
    "    # Инициализация токенизатора и модели  \n",
    "tokenizer = BertTokenizer.from_pretrained('bert-base-uncased')\n",
    "model = BertForSequenceClassification.from_pretrained('bert-base-uncased', num_labels=3)\n",
    "\n",
    "# Перенос модели на GPU, если доступен  \n",
    "device = torch.device('cuda' if torch.cuda.is_available() else 'cpu')\n",
    "model = model.to(device)\n",
    "\n",
    "# Создание DataLoader  \n",
    "train_dataset = WeatherDataset(X_train, y_train_scaled, tokenizer, max_length=10)\n",
    "train_loader = DataLoader(train_dataset, batch_size=16, shuffle=True)\n",
    "\n",
    "# Оптимизатор  \n",
    "optimizer = torch.optim.AdamW(model.parameters(), lr=2e-5)\n",
    "\n",
    "# Обучение модели  \n",
    "model.train()\n",
    "for epoch in range(8):  # Установите количество эпох  \n",
    "    for batch in train_loader:\n",
    "        optimizer.zero_grad()\n",
    "\n",
    "        input_ids = batch['input_ids'].to(device)\n",
    "        attention_mask = batch['attention_mask'].to(device)\n",
    "        targets = batch['targets'].to(device)\n",
    "\n",
    "        outputs = model(input_ids, attention_mask=attention_mask)\n",
    "        loss = torch.nn.functional.mse_loss(outputs.logits, targets)\n",
    "\n",
    "        loss.backward()\n",
    "        optimizer.step()\n",
    "\n",
    "    print(f'Epoch {epoch + 1}, Loss: {loss.item()}')\n",
    "    if loss.item() < 0.1:\n",
    "        break"
   ]
  },
  {
   "cell_type": "code",
   "execution_count": 11,
   "id": "ab70e33f25ca5821",
   "metadata": {
    "ExecuteTime": {
     "end_time": "2024-12-17T22:26:01.776144Z",
     "start_time": "2024-12-17T22:26:01.424044Z"
    }
   },
   "outputs": [
    {
     "data": {
      "text/plain": [
       "('./bert_weather_model/tokenizer_config.json',\n",
       " './bert_weather_model/special_tokens_map.json',\n",
       " './bert_weather_model/vocab.txt',\n",
       " './bert_weather_model/added_tokens.json')"
      ]
     },
     "execution_count": 11,
     "metadata": {},
     "output_type": "execute_result"
    }
   ],
   "source": [
    "# Сохраняем модель  \n",
    "model.save_pretrained('./bert_weather_model')\n",
    "tokenizer.save_pretrained('./bert_weather_model')"
   ]
  },
  {
   "cell_type": "code",
   "execution_count": 12,
   "id": "69252d40627db660",
   "metadata": {
    "ExecuteTime": {
     "end_time": "2024-12-17T23:07:56.395865Z",
     "start_time": "2024-12-17T23:07:56.391798Z"
    }
   },
   "outputs": [],
   "source": [
    "import joblib\n",
    "\n",
    "# Сохранить  \n",
    "joblib.dump(scaler, './bert_weather_model/scaler.pkl')\n",
    "\n",
    "# Затем при необходимости загрузить  \n",
    "scaler = joblib.load('./bert_weather_model/scaler.pkl')"
   ]
  },
  {
   "cell_type": "code",
   "execution_count": 13,
   "id": "226b8b5a8ebbb6d0",
   "metadata": {
    "ExecuteTime": {
     "end_time": "2024-12-17T23:07:13.441438Z",
     "start_time": "2024-12-17T23:07:13.178810Z"
    }
   },
   "outputs": [],
   "source": [
    "from transformers import BertTokenizer, BertForSequenceClassification\n",
    "\n",
    "# Загрузка токенизатора  \n",
    "tokenizer = BertTokenizer.from_pretrained(\"./bert_weather_model\")\n",
    "\n",
    "# Загрузка модели  \n",
    "model = BertForSequenceClassification.from_pretrained(\"./bert_weather_model\")\n",
    "\n",
    "# Переносим модель на устройство (GPU или CPU)  \n",
    "device = torch.device('cuda' if torch.cuda.is_available() else 'cpu')\n",
    "model = model.to(device)"
   ]
  },
  {
   "cell_type": "code",
   "execution_count": 1,
   "id": "1c956d6d5a30df3d",
   "metadata": {
    "ExecuteTime": {
     "end_time": "2024-12-17T23:07:17.419387Z",
     "start_time": "2024-12-17T23:07:17.416293Z"
    }
   },
   "outputs": [],
   "source": [
    "# Функция для предсказания  \n",
    "def predict(date):\n",
    "    model.eval()\n",
    "    with torch.no_grad():\n",
    "        encoding = tokenizer.encode_plus(\n",
    "            date,\n",
    "            add_special_tokens=True,\n",
    "            max_length=10,\n",
    "            return_token_type_ids=False,\n",
    "            padding='max_length',\n",
    "            return_attention_mask=True,\n",
    "            return_tensors='pt',\n",
    "            truncation=True,\n",
    "        )\n",
    "\n",
    "        input_ids = encoding['input_ids'].to(device)\n",
    "        attention_mask = encoding['attention_mask'].to(device)\n",
    "\n",
    "        outputs = model(input_ids, attention_mask=attention_mask)\n",
    "        predictions = scaler.inverse_transform(outputs.logits.cpu().numpy())\n",
    "\n",
    "        return predictions"
   ]
  },
  {
   "cell_type": "code",
   "execution_count": 2,
   "id": "ac1c7e42c59252df",
   "metadata": {
    "ExecuteTime": {
     "end_time": "2024-12-17T23:07:19.796343Z",
     "start_time": "2024-12-17T23:07:19.773867Z"
    }
   },
   "outputs": [
    {
     "ename": "NameError",
     "evalue": "name 'model' is not defined",
     "output_type": "error",
     "traceback": [
      "\u001b[0;31m---------------------------------------------------------------------------\u001b[0m",
      "\u001b[0;31mNameError\u001b[0m                                 Traceback (most recent call last)",
      "Cell \u001b[0;32mIn[2], line 2\u001b[0m\n\u001b[1;32m      1\u001b[0m \u001b[38;5;66;03m# Пример использования  \u001b[39;00m\n\u001b[0;32m----> 2\u001b[0m predicted_values \u001b[38;5;241m=\u001b[39m \u001b[43mpredict\u001b[49m\u001b[43m(\u001b[49m\u001b[38;5;124;43m'\u001b[39;49m\u001b[38;5;124;43m14.08.2015\u001b[39;49m\u001b[38;5;124;43m'\u001b[39;49m\u001b[43m)\u001b[49m\n\u001b[1;32m      3\u001b[0m \u001b[38;5;28mprint\u001b[39m(\u001b[38;5;124mf\u001b[39m\u001b[38;5;124m'\u001b[39m\u001b[38;5;124mPredicted Temperature: \u001b[39m\u001b[38;5;132;01m{\u001b[39;00mpredicted_values[\u001b[38;5;241m0\u001b[39m][\u001b[38;5;241m0\u001b[39m]\u001b[38;5;132;01m}\u001b[39;00m\u001b[38;5;124m, Precipitation: \u001b[39m\u001b[38;5;132;01m{\u001b[39;00mpredicted_values[\u001b[38;5;241m0\u001b[39m][\u001b[38;5;241m1\u001b[39m]\u001b[38;5;132;01m}\u001b[39;00m\u001b[38;5;124m, Cloudiness: \u001b[39m\u001b[38;5;132;01m{\u001b[39;00mpredicted_values[\u001b[38;5;241m0\u001b[39m][\u001b[38;5;241m2\u001b[39m]\u001b[38;5;132;01m}\u001b[39;00m\u001b[38;5;124m'\u001b[39m)\n",
      "Cell \u001b[0;32mIn[1], line 3\u001b[0m, in \u001b[0;36mpredict\u001b[0;34m(date)\u001b[0m\n\u001b[1;32m      2\u001b[0m \u001b[38;5;28;01mdef\u001b[39;00m \u001b[38;5;21mpredict\u001b[39m(date):\n\u001b[0;32m----> 3\u001b[0m     \u001b[43mmodel\u001b[49m\u001b[38;5;241m.\u001b[39meval()\n\u001b[1;32m      4\u001b[0m     \u001b[38;5;28;01mwith\u001b[39;00m torch\u001b[38;5;241m.\u001b[39mno_grad():\n\u001b[1;32m      5\u001b[0m         encoding \u001b[38;5;241m=\u001b[39m tokenizer\u001b[38;5;241m.\u001b[39mencode_plus(\n\u001b[1;32m      6\u001b[0m             date,\n\u001b[1;32m      7\u001b[0m             add_special_tokens\u001b[38;5;241m=\u001b[39m\u001b[38;5;28;01mTrue\u001b[39;00m,\n\u001b[0;32m   (...)\u001b[0m\n\u001b[1;32m     13\u001b[0m             truncation\u001b[38;5;241m=\u001b[39m\u001b[38;5;28;01mTrue\u001b[39;00m,\n\u001b[1;32m     14\u001b[0m         )\n",
      "\u001b[0;31mNameError\u001b[0m: name 'model' is not defined"
     ]
    }
   ],
   "source": [
    "# Пример использования  \n",
    "predicted_values = predict('14.08.2015')\n",
    "print(f'Predicted Temperature: {predicted_values[0][0]}, Precipitation: {predicted_values[0][1]}, Cloudiness: {predicted_values[0][2]}')"
   ]
  },
  {
   "cell_type": "code",
   "execution_count": null,
   "id": "f5cdb5173be47418",
   "metadata": {},
   "outputs": [],
   "source": []
  },
  {
   "cell_type": "code",
   "execution_count": 16,
   "id": "98f9a24f67b50139",
   "metadata": {},
   "outputs": [
    {
     "ename": "IndexError",
     "evalue": "invalid index to scalar variable.",
     "output_type": "error",
     "traceback": [
      "\u001b[0;31m---------------------------------------------------------------------------\u001b[0m",
      "\u001b[0;31mIndexError\u001b[0m                                Traceback (most recent call last)",
      "Cell \u001b[0;32mIn[16], line 11\u001b[0m\n\u001b[1;32m      9\u001b[0m \u001b[38;5;66;03m# Пример использования  \u001b[39;00m\n\u001b[1;32m     10\u001b[0m predicted_values \u001b[38;5;241m=\u001b[39m predict_weather(\u001b[38;5;124m'\u001b[39m\u001b[38;5;124m2024-01-01\u001b[39m\u001b[38;5;124m'\u001b[39m)\n\u001b[0;32m---> 11\u001b[0m \u001b[38;5;28mprint\u001b[39m(\u001b[38;5;124mf\u001b[39m\u001b[38;5;124m'\u001b[39m\u001b[38;5;124mPredicted values for 2024-01-01: Temperature: \u001b[39m\u001b[38;5;132;01m{\u001b[39;00mpredicted_values[\u001b[38;5;241m0\u001b[39m][\u001b[38;5;241m0\u001b[39m]\u001b[38;5;132;01m}\u001b[39;00m\u001b[38;5;124m, Precipitation: \u001b[39m\u001b[38;5;132;01m{\u001b[39;00mpredicted_values[\u001b[38;5;241m0\u001b[39m][\u001b[38;5;241m1\u001b[39m]\u001b[38;5;132;01m}\u001b[39;00m\u001b[38;5;124m, Cloudiness: \u001b[39m\u001b[38;5;132;01m{\u001b[39;00mpredicted_values[\u001b[38;5;241m0\u001b[39m][\u001b[38;5;241m2\u001b[39m]\u001b[38;5;132;01m}\u001b[39;00m\u001b[38;5;124m'\u001b[39m)\n",
      "\u001b[0;31mIndexError\u001b[0m: invalid index to scalar variable."
     ]
    }
   ],
   "source": [
    "def predict_weather(date):\n",
    "    model.eval()\n",
    "    inputs = tokenizer([date], truncation=True, padding=True, return_tensors='pt')\n",
    "    with torch.no_grad():\n",
    "        outputs = model(**inputs)\n",
    "        predictions = outputs.logits.argmax(dim=-1).numpy()\n",
    "    return predictions\n",
    "\n",
    "# Пример использования  \n",
    "predicted_values = predict_weather('2024-01-01')\n",
    "print(f'Predicted values for 2024-01-01: Temperature: {predicted_values[0][0]}, Precipitation: {predicted_values[0][1]}, Cloudiness: {predicted_values[0][2]}')  "
   ]
  },
  {
   "cell_type": "code",
   "execution_count": 1,
   "id": "40f9b380",
   "metadata": {},
   "outputs": [
    {
     "name": "stdout",
     "output_type": "stream",
     "text": [
      "GPU доступен: True\n",
      "Название устройства: AMD Radeon RX 7800 XT\n"
     ]
    }
   ],
   "source": [
    "import torch\n",
    "print(\"GPU доступен:\", torch.cuda.is_available())\n",
    "if torch.cuda.is_available():\n",
    "    print(\"Название устройства:\", torch.cuda.get_device_name(0))\n"
   ]
  },
  {
   "cell_type": "code",
   "execution_count": 2,
   "id": "64eac9f6",
   "metadata": {},
   "outputs": [
    {
     "data": {
      "text/plain": [
       "'2.5.1+rocm6.2'"
      ]
     },
     "execution_count": 2,
     "metadata": {},
     "output_type": "execute_result"
    }
   ],
   "source": [
    "torch.__version__"
   ]
  },
  {
   "cell_type": "code",
   "execution_count": 3,
   "id": "e257dbc1",
   "metadata": {},
   "outputs": [
    {
     "name": "stdout",
     "output_type": "stream",
     "text": [
      "Using device: cuda\n",
      "Running on AMD GPU with ROCm\n"
     ]
    }
   ],
   "source": [
    "use_gpu = torch.cuda.is_available()\n",
    "is_amd = torch.version.hip is not None\n",
    "device = 'cuda' if use_gpu else 'cpu'\n",
    "\n",
    "print(f\"Using device: {device}\")\n",
    "if is_amd:\n",
    "    print(\"Running on AMD GPU with ROCm\")\n",
    "elif use_gpu:\n",
    "    print(\"Running on NVIDIA GPU with CUDA\")\n",
    "else:\n",
    "    print(\"Running on CPU\")\n"
   ]
  },
  {
   "cell_type": "code",
   "execution_count": 5,
   "id": "560f3700",
   "metadata": {},
   "outputs": [
    {
     "name": "stdout",
     "output_type": "stream",
     "text": [
      "GPU доступны: [PhysicalDevice(name='/physical_device:GPU:0', device_type='GPU')]\n",
      "Собран с поддержкой ROCm: True\n",
      "2.16.1\n"
     ]
    }
   ],
   "source": [
    "import tensorflow as tf\n",
    "print(\"GPU доступны:\", tf.config.list_physical_devices('GPU'))\n",
    "print(\"Собран с поддержкой ROCm:\", tf.test.is_built_with_rocm())\n",
    "print(tf.__version__)\n",
    "\n"
   ]
  }
 ],
 "metadata": {
  "kernelspec": {
   "display_name": "rocm",
   "language": "python",
   "name": "python3"
  },
  "language_info": {
   "codemirror_mode": {
    "name": "ipython",
    "version": 3
   },
   "file_extension": ".py",
   "mimetype": "text/x-python",
   "name": "python",
   "nbconvert_exporter": "python",
   "pygments_lexer": "ipython3",
   "version": "3.10.16"
  }
 },
 "nbformat": 4,
 "nbformat_minor": 5
}
