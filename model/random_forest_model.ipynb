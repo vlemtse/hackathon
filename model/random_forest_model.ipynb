{
 "cells": [
  {
   "cell_type": "code",
   "id": "initial_id",
   "metadata": {
    "collapsed": true,
    "ExecuteTime": {
     "end_time": "2024-12-17T22:28:18.807272Z",
     "start_time": "2024-12-17T22:28:18.804171Z"
    }
   },
   "source": [
    "import numpy as np\n",
    "import pandas as pd\n",
    "import joblib\n",
    "from sklearn.model_selection import train_test_split\n",
    "from sklearn.ensemble import RandomForestRegressor\n",
    "from sklearn.metrics import mean_squared_error"
   ],
   "outputs": [],
   "execution_count": 6
  },
  {
   "metadata": {
    "ExecuteTime": {
     "end_time": "2024-12-17T22:28:19.017233Z",
     "start_time": "2024-12-17T22:28:18.815603Z"
    }
   },
   "cell_type": "code",
   "source": [
    "dtype = {\n",
    "    'datetime': 'string',\n",
    "    'T': 'float32',\n",
    "    'RRR': 'float32',\n",
    "}\n",
    "data = pd.read_csv('data/weather.csv', sep=';', usecols=[1, 23])\n",
    "data['date_time'] = data.index\n",
    "data.reset_index(drop=True, inplace=True)"
   ],
   "id": "631adb88eba34778",
   "outputs": [],
   "execution_count": 7
  },
  {
   "metadata": {},
   "cell_type": "markdown",
   "source": [
    "T - температура\n",
    "\n",
    "RRR - кол-во осадков"
   ],
   "id": "35887bb8b16e061c"
  },
  {
   "metadata": {
    "ExecuteTime": {
     "end_time": "2024-12-17T22:28:19.023815Z",
     "start_time": "2024-12-17T22:28:19.019236Z"
    }
   },
   "cell_type": "code",
   "source": "data['RRR'] = data['RRR'].fillna(0.0)",
   "id": "7d4eef0df7eb12ca",
   "outputs": [],
   "execution_count": 8
  },
  {
   "metadata": {
    "ExecuteTime": {
     "end_time": "2024-12-17T22:28:19.032398Z",
     "start_time": "2024-12-17T22:28:19.028713Z"
    }
   },
   "cell_type": "code",
   "source": "df = data.copy()",
   "id": "244f9c53d5d6cc90",
   "outputs": [],
   "execution_count": 9
  },
  {
   "metadata": {
    "ExecuteTime": {
     "end_time": "2024-12-17T22:28:19.049142Z",
     "start_time": "2024-12-17T22:28:19.037566Z"
    }
   },
   "cell_type": "code",
   "source": [
    "df['date'] = df['date_time'].apply(lambda x: x.split()[0].strip())\n",
    "del df['date_time']"
   ],
   "id": "e60f9983b3ba40a9",
   "outputs": [],
   "execution_count": 10
  },
  {
   "metadata": {
    "ExecuteTime": {
     "end_time": "2024-12-17T22:28:19.059026Z",
     "start_time": "2024-12-17T22:28:19.054281Z"
    }
   },
   "cell_type": "code",
   "source": "df = df[df['T'].notna()]",
   "id": "c24fda72fa235a15",
   "outputs": [],
   "execution_count": 11
  },
  {
   "metadata": {
    "ExecuteTime": {
     "end_time": "2024-12-17T22:28:19.090262Z",
     "start_time": "2024-12-17T22:28:19.064583Z"
    }
   },
   "cell_type": "code",
   "source": [
    "def replace_str_with_zero(value):\n",
    "    try:\n",
    "        np.float64(value)\n",
    "        return value\n",
    "    except ValueError:\n",
    "        return np.float64(0)\n",
    "\n",
    "# Применяем функцию ко всем значениям в столбце RRR\n",
    "df['RRR'] = df['RRR'].apply(replace_str_with_zero)"
   ],
   "id": "da9ce8a5c4ec72a0",
   "outputs": [],
   "execution_count": 12
  },
  {
   "metadata": {
    "ExecuteTime": {
     "end_time": "2024-12-17T22:28:19.102110Z",
     "start_time": "2024-12-17T22:28:19.095806Z"
    }
   },
   "cell_type": "code",
   "source": [
    "df['temperature'] = df['T'].astype(np.float64)\n",
    "df['precipitation'] = df['RRR'].astype(np.float64)\n",
    "\n",
    "del df['T']\n",
    "del df['RRR']"
   ],
   "id": "654f1d49452d4625",
   "outputs": [],
   "execution_count": 13
  },
  {
   "metadata": {
    "ExecuteTime": {
     "end_time": "2024-12-17T22:28:19.119545Z",
     "start_time": "2024-12-17T22:28:19.108756Z"
    }
   },
   "cell_type": "code",
   "source": [
    "df = df.groupby('date').agg({'temperature': 'mean', 'precipitation': 'sum'})\n",
    "df['date'] = df.index\n",
    "df.reset_index(inplace=True, drop=True)"
   ],
   "id": "13540d1215e677e",
   "outputs": [],
   "execution_count": 14
  },
  {
   "metadata": {
    "ExecuteTime": {
     "end_time": "2024-12-17T22:28:19.136727Z",
     "start_time": "2024-12-17T22:28:19.127151Z"
    }
   },
   "cell_type": "code",
   "source": [
    "split_dates = df['date'].str.split('.', expand=True)\n",
    "split_dates.columns = ['day', 'month', 'year']\n",
    "split_dates"
   ],
   "id": "9a14d7544debdbe2",
   "outputs": [
    {
     "data": {
      "text/plain": [
       "     day month  year\n",
       "0     01    01  2006\n",
       "1     01    01  2007\n",
       "2     01    01  2008\n",
       "3     01    01  2009\n",
       "4     01    01  2010\n",
       "...   ..   ...   ...\n",
       "7252  31    12  2019\n",
       "7253  31    12  2020\n",
       "7254  31    12  2021\n",
       "7255  31    12  2022\n",
       "7256  31    12  2023\n",
       "\n",
       "[7257 rows x 3 columns]"
      ],
      "text/html": [
       "<div>\n",
       "<style scoped>\n",
       "    .dataframe tbody tr th:only-of-type {\n",
       "        vertical-align: middle;\n",
       "    }\n",
       "\n",
       "    .dataframe tbody tr th {\n",
       "        vertical-align: top;\n",
       "    }\n",
       "\n",
       "    .dataframe thead th {\n",
       "        text-align: right;\n",
       "    }\n",
       "</style>\n",
       "<table border=\"1\" class=\"dataframe\">\n",
       "  <thead>\n",
       "    <tr style=\"text-align: right;\">\n",
       "      <th></th>\n",
       "      <th>day</th>\n",
       "      <th>month</th>\n",
       "      <th>year</th>\n",
       "    </tr>\n",
       "  </thead>\n",
       "  <tbody>\n",
       "    <tr>\n",
       "      <th>0</th>\n",
       "      <td>01</td>\n",
       "      <td>01</td>\n",
       "      <td>2006</td>\n",
       "    </tr>\n",
       "    <tr>\n",
       "      <th>1</th>\n",
       "      <td>01</td>\n",
       "      <td>01</td>\n",
       "      <td>2007</td>\n",
       "    </tr>\n",
       "    <tr>\n",
       "      <th>2</th>\n",
       "      <td>01</td>\n",
       "      <td>01</td>\n",
       "      <td>2008</td>\n",
       "    </tr>\n",
       "    <tr>\n",
       "      <th>3</th>\n",
       "      <td>01</td>\n",
       "      <td>01</td>\n",
       "      <td>2009</td>\n",
       "    </tr>\n",
       "    <tr>\n",
       "      <th>4</th>\n",
       "      <td>01</td>\n",
       "      <td>01</td>\n",
       "      <td>2010</td>\n",
       "    </tr>\n",
       "    <tr>\n",
       "      <th>...</th>\n",
       "      <td>...</td>\n",
       "      <td>...</td>\n",
       "      <td>...</td>\n",
       "    </tr>\n",
       "    <tr>\n",
       "      <th>7252</th>\n",
       "      <td>31</td>\n",
       "      <td>12</td>\n",
       "      <td>2019</td>\n",
       "    </tr>\n",
       "    <tr>\n",
       "      <th>7253</th>\n",
       "      <td>31</td>\n",
       "      <td>12</td>\n",
       "      <td>2020</td>\n",
       "    </tr>\n",
       "    <tr>\n",
       "      <th>7254</th>\n",
       "      <td>31</td>\n",
       "      <td>12</td>\n",
       "      <td>2021</td>\n",
       "    </tr>\n",
       "    <tr>\n",
       "      <th>7255</th>\n",
       "      <td>31</td>\n",
       "      <td>12</td>\n",
       "      <td>2022</td>\n",
       "    </tr>\n",
       "    <tr>\n",
       "      <th>7256</th>\n",
       "      <td>31</td>\n",
       "      <td>12</td>\n",
       "      <td>2023</td>\n",
       "    </tr>\n",
       "  </tbody>\n",
       "</table>\n",
       "<p>7257 rows × 3 columns</p>\n",
       "</div>"
      ]
     },
     "execution_count": 15,
     "metadata": {},
     "output_type": "execute_result"
    }
   ],
   "execution_count": 15
  },
  {
   "metadata": {
    "ExecuteTime": {
     "end_time": "2024-12-17T22:28:19.160832Z",
     "start_time": "2024-12-17T22:28:19.157077Z"
    }
   },
   "cell_type": "code",
   "source": [
    "df[['day', 'month', 'year']] = split_dates\n",
    "del df['date']"
   ],
   "id": "eb8c9b96d466d9a1",
   "outputs": [],
   "execution_count": 16
  },
  {
   "metadata": {
    "ExecuteTime": {
     "end_time": "2024-12-17T22:28:19.188030Z",
     "start_time": "2024-12-17T22:28:19.183692Z"
    }
   },
   "cell_type": "code",
   "source": [
    "df['day'] = df['day'].astype(np.int64)\n",
    "df['month'] = df['month'].astype(np.int64)\n",
    "df['year'] = df['year'].astype(np.int64)"
   ],
   "id": "66332b068052bf04",
   "outputs": [],
   "execution_count": 17
  },
  {
   "metadata": {
    "ExecuteTime": {
     "end_time": "2024-12-17T22:28:19.214039Z",
     "start_time": "2024-12-17T22:28:19.210035Z"
    }
   },
   "cell_type": "code",
   "source": [
    "# Предположим, что датафрейм называется df\n",
    "# Целевая переменная\n",
    "y = df['temperature']\n",
    "\n",
    "# Признаки\n",
    "X = df[['day', 'month', 'year']]\n",
    "\n",
    "# Разделим данные на обучающую и тестовую выборки\n",
    "X_train, X_test, y_train, y_test = train_test_split(X, y, test_size=0.2, random_state=42)"
   ],
   "id": "d8a338befb6376cc",
   "outputs": [],
   "execution_count": 18
  },
  {
   "metadata": {
    "ExecuteTime": {
     "end_time": "2024-12-17T22:28:25.872913Z",
     "start_time": "2024-12-17T22:28:19.236073Z"
    }
   },
   "cell_type": "code",
   "source": [
    "from sklearn.model_selection import GridSearchCV\n",
    "\n",
    "# Задаем параметры для перебора\n",
    "param_grid = {\n",
    "    'n_estimators': [50, 100, 150, 200],\n",
    "    'max_depth': [None, 5, 10, 15, 20, 25],\n",
    "    'min_samples_split': [2, 5, 10]\n",
    "}\n",
    "\n",
    "# GridSearch\n",
    "grid_search = GridSearchCV(estimator=RandomForestRegressor(random_state=42),\n",
    "                           param_grid=param_grid,\n",
    "                           cv=3, scoring='neg_mean_squared_error', verbose=2, n_jobs=-1)\n",
    "grid_search.fit(X_train, y_train)\n",
    "\n",
    "# Лучшая модель\n",
    "best_model = grid_search.best_estimator_\n",
    "print(grid_search.best_params_)\n",
    "\n",
    "# Оценка лучшей модели\n",
    "y_pred_best = best_model.predict(X_test)\n",
    "rmse_best = np.sqrt(mean_squared_error(y_test, y_pred_best))\n",
    "print(f\"Best RMSE: {rmse_best}\")\n"
   ],
   "id": "46cc563ba331b351",
   "outputs": [
    {
     "name": "stdout",
     "output_type": "stream",
     "text": [
      "Fitting 3 folds for each of 72 candidates, totalling 216 fits\n",
      "{'max_depth': 20, 'min_samples_split': 2, 'n_estimators': 200}\n",
      "Best RMSE: 2.5541286803366168\n"
     ]
    }
   ],
   "execution_count": 19
  },
  {
   "metadata": {
    "ExecuteTime": {
     "end_time": "2024-12-17T22:28:26.788300Z",
     "start_time": "2024-12-17T22:28:25.882047Z"
    }
   },
   "cell_type": "code",
   "source": [
    "# Создаем модель случайного леса\n",
    "model = RandomForestRegressor(n_estimators=200, min_samples_split=2, max_depth=20, random_state=42)\n",
    "\n",
    "# Обучаем модель\n",
    "model.fit(X_train, y_train)\n",
    "\n",
    "# Предсказания на тестовой выборке\n",
    "y_pred = model.predict(X_test)\n",
    "\n",
    "# Оценка качества модели (например, RMSE)\n",
    "rmse = np.sqrt(mean_squared_error(y_test, y_pred))\n",
    "print(f\"RMSE: {rmse}\")"
   ],
   "id": "fb04fa0ed1ec7c67",
   "outputs": [
    {
     "name": "stdout",
     "output_type": "stream",
     "text": [
      "RMSE: 2.5541286803366168\n"
     ]
    }
   ],
   "execution_count": 20
  },
  {
   "metadata": {
    "ExecuteTime": {
     "end_time": "2024-12-17T22:28:26.807346Z",
     "start_time": "2024-12-17T22:28:26.798066Z"
    }
   },
   "cell_type": "code",
   "source": [
    "pred_d = pd.DataFrame(\n",
    "    {\n",
    "        'day': [13],\n",
    "        'month': [2],\n",
    "        'year': [2025],\n",
    "    }\n",
    ")\n",
    "model.predict(pred_d)"
   ],
   "id": "5f9aabf5843b45a5",
   "outputs": [
    {
     "data": {
      "text/plain": [
       "array([-5.698125])"
      ]
     },
     "execution_count": 21,
     "metadata": {},
     "output_type": "execute_result"
    }
   ],
   "execution_count": 21
  },
  {
   "metadata": {},
   "cell_type": "markdown",
   "source": [
    "```\n",
    "\n",
    "# Сохраняем модель в файл\n",
    "joblib.dump(model, 'random_forest_model.joblib')\n",
    "\n",
    "# Загружаем сохранённую модель\n",
    "loaded_model = joblib.load('random_forest_model.joblib')\n",
    "\n",
    "# Делаем предсказание на тестовом наборе\n",
    "predictions = loaded_model.predict(X_test)\n",
    "\n",
    "```"
   ],
   "id": "b0d3c306483236be"
  },
  {
   "metadata": {
    "ExecuteTime": {
     "end_time": "2024-12-17T22:47:09.397084Z",
     "start_time": "2024-12-17T22:47:09.345164Z"
    }
   },
   "cell_type": "code",
   "source": [
    "# save model\n",
    "joblib.dump(model, './random_forest_model/random_forest_model.joblib')\n"
   ],
   "id": "e3e092be6357fe68",
   "outputs": [
    {
     "data": {
      "text/plain": [
       "['./random_forest_model/random_forest_model.joblib']"
      ]
     },
     "execution_count": 23,
     "metadata": {},
     "output_type": "execute_result"
    }
   ],
   "execution_count": 23
  },
  {
   "metadata": {
    "ExecuteTime": {
     "end_time": "2024-12-17T22:18:05.407041Z",
     "start_time": "2024-12-17T22:18:02.475462Z"
    }
   },
   "cell_type": "code",
   "source": [
    "import joblib\n",
    "# Загружаем сохранённую модель\n",
    "loaded_model = joblib.load('random_forest_model.joblib')"
   ],
   "id": "fde8009de0a1592",
   "outputs": [],
   "execution_count": 2
  },
  {
   "metadata": {
    "ExecuteTime": {
     "end_time": "2024-12-17T22:18:37.317479Z",
     "start_time": "2024-12-17T22:18:37.306615Z"
    }
   },
   "cell_type": "code",
   "source": [
    "import pandas as pd\n",
    "\n",
    "pred_d = pd.DataFrame(\n",
    "    {\n",
    "        'day': [14],\n",
    "        'month': [8],\n",
    "        'year': [2015],\n",
    "    }\n",
    ")\n",
    "# Делаем предсказание на тестовом наборе\n",
    "predictions = loaded_model.predict(pred_d)\n",
    "predictions\n"
   ],
   "id": "7aaafb350dfb74ce",
   "outputs": [
    {
     "data": {
      "text/plain": [
       "array([17.282253])"
      ]
     },
     "execution_count": 5,
     "metadata": {},
     "output_type": "execute_result"
    }
   ],
   "execution_count": 5
  }
 ],
 "metadata": {
  "kernelspec": {
   "display_name": "Python 3",
   "language": "python",
   "name": "python3"
  },
  "language_info": {
   "codemirror_mode": {
    "name": "ipython",
    "version": 2
   },
   "file_extension": ".py",
   "mimetype": "text/x-python",
   "name": "python",
   "nbconvert_exporter": "python",
   "pygments_lexer": "ipython2",
   "version": "2.7.6"
  }
 },
 "nbformat": 4,
 "nbformat_minor": 5
}
