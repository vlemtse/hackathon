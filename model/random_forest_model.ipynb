{
 "cells": [
  {
   "cell_type": "code",
   "execution_count": 1,
   "id": "initial_id",
   "metadata": {
    "ExecuteTime": {
     "end_time": "2024-12-17T22:28:18.807272Z",
     "start_time": "2024-12-17T22:28:18.804171Z"
    },
    "collapsed": true
   },
   "outputs": [],
   "source": [
    "import numpy as np\n",
    "import pandas as pd\n",
    "import joblib\n",
    "from sklearn.model_selection import train_test_split\n",
    "from sklearn.ensemble import RandomForestRegressor\n",
    "from sklearn.metrics import mean_squared_error"
   ]
  },
  {
   "cell_type": "code",
   "execution_count": 2,
   "id": "631adb88eba34778",
   "metadata": {
    "ExecuteTime": {
     "end_time": "2024-12-17T22:28:19.017233Z",
     "start_time": "2024-12-17T22:28:18.815603Z"
    }
   },
   "outputs": [],
   "source": [
    "dtype = {\n",
    "    'datetime': 'string',\n",
    "    'T': 'float32',\n",
    "    'RRR': 'float32',\n",
    "}\n",
    "data = pd.read_csv('data/weather.csv', sep=';', usecols=[1, 23])\n",
    "data['date_time'] = data.index\n",
    "data.reset_index(drop=True, inplace=True)"
   ]
  },
  {
   "cell_type": "markdown",
   "id": "35887bb8b16e061c",
   "metadata": {},
   "source": [
    "T - температура\n",
    "\n",
    "RRR - кол-во осадков"
   ]
  },
  {
   "cell_type": "code",
   "execution_count": 3,
   "id": "7d4eef0df7eb12ca",
   "metadata": {
    "ExecuteTime": {
     "end_time": "2024-12-17T22:28:19.023815Z",
     "start_time": "2024-12-17T22:28:19.019236Z"
    }
   },
   "outputs": [],
   "source": [
    "data['RRR'] = data['RRR'].fillna(0.0)"
   ]
  },
  {
   "cell_type": "code",
   "execution_count": 4,
   "id": "244f9c53d5d6cc90",
   "metadata": {
    "ExecuteTime": {
     "end_time": "2024-12-17T22:28:19.032398Z",
     "start_time": "2024-12-17T22:28:19.028713Z"
    }
   },
   "outputs": [],
   "source": [
    "df = data.copy()"
   ]
  },
  {
   "cell_type": "code",
   "execution_count": 5,
   "id": "e60f9983b3ba40a9",
   "metadata": {
    "ExecuteTime": {
     "end_time": "2024-12-17T22:28:19.049142Z",
     "start_time": "2024-12-17T22:28:19.037566Z"
    }
   },
   "outputs": [],
   "source": [
    "df['date'] = df['date_time'].apply(lambda x: x.split()[0].strip())\n",
    "del df['date_time']"
   ]
  },
  {
   "cell_type": "code",
   "execution_count": 6,
   "id": "c24fda72fa235a15",
   "metadata": {
    "ExecuteTime": {
     "end_time": "2024-12-17T22:28:19.059026Z",
     "start_time": "2024-12-17T22:28:19.054281Z"
    }
   },
   "outputs": [],
   "source": [
    "df = df[df['T'].notna()]"
   ]
  },
  {
   "cell_type": "code",
   "execution_count": 7,
   "id": "da9ce8a5c4ec72a0",
   "metadata": {
    "ExecuteTime": {
     "end_time": "2024-12-17T22:28:19.090262Z",
     "start_time": "2024-12-17T22:28:19.064583Z"
    }
   },
   "outputs": [],
   "source": [
    "def replace_str_with_zero(value):\n",
    "    try:\n",
    "        np.float64(value)\n",
    "        return value\n",
    "    except ValueError:\n",
    "        return np.float64(0)\n",
    "\n",
    "# Применяем функцию ко всем значениям в столбце RRR\n",
    "df['RRR'] = df['RRR'].apply(replace_str_with_zero)"
   ]
  },
  {
   "cell_type": "code",
   "execution_count": 8,
   "id": "654f1d49452d4625",
   "metadata": {
    "ExecuteTime": {
     "end_time": "2024-12-17T22:28:19.102110Z",
     "start_time": "2024-12-17T22:28:19.095806Z"
    }
   },
   "outputs": [],
   "source": [
    "df['temperature'] = df['T'].astype(np.float64)\n",
    "df['precipitation'] = df['RRR'].astype(np.float64)\n",
    "\n",
    "del df['T']\n",
    "del df['RRR']"
   ]
  },
  {
   "cell_type": "code",
   "execution_count": 9,
   "id": "13540d1215e677e",
   "metadata": {
    "ExecuteTime": {
     "end_time": "2024-12-17T22:28:19.119545Z",
     "start_time": "2024-12-17T22:28:19.108756Z"
    }
   },
   "outputs": [],
   "source": [
    "df = df.groupby('date').agg({'temperature': 'mean', 'precipitation': 'sum'})\n",
    "df['date'] = df.index\n",
    "df.reset_index(inplace=True, drop=True)"
   ]
  },
  {
   "cell_type": "code",
   "execution_count": 10,
   "id": "9a14d7544debdbe2",
   "metadata": {
    "ExecuteTime": {
     "end_time": "2024-12-17T22:28:19.136727Z",
     "start_time": "2024-12-17T22:28:19.127151Z"
    }
   },
   "outputs": [
    {
     "data": {
      "text/html": [
       "<div>\n",
       "<style scoped>\n",
       "    .dataframe tbody tr th:only-of-type {\n",
       "        vertical-align: middle;\n",
       "    }\n",
       "\n",
       "    .dataframe tbody tr th {\n",
       "        vertical-align: top;\n",
       "    }\n",
       "\n",
       "    .dataframe thead th {\n",
       "        text-align: right;\n",
       "    }\n",
       "</style>\n",
       "<table border=\"1\" class=\"dataframe\">\n",
       "  <thead>\n",
       "    <tr style=\"text-align: right;\">\n",
       "      <th></th>\n",
       "      <th>day</th>\n",
       "      <th>month</th>\n",
       "      <th>year</th>\n",
       "    </tr>\n",
       "  </thead>\n",
       "  <tbody>\n",
       "    <tr>\n",
       "      <th>0</th>\n",
       "      <td>01</td>\n",
       "      <td>01</td>\n",
       "      <td>2006</td>\n",
       "    </tr>\n",
       "    <tr>\n",
       "      <th>1</th>\n",
       "      <td>01</td>\n",
       "      <td>01</td>\n",
       "      <td>2007</td>\n",
       "    </tr>\n",
       "    <tr>\n",
       "      <th>2</th>\n",
       "      <td>01</td>\n",
       "      <td>01</td>\n",
       "      <td>2008</td>\n",
       "    </tr>\n",
       "    <tr>\n",
       "      <th>3</th>\n",
       "      <td>01</td>\n",
       "      <td>01</td>\n",
       "      <td>2009</td>\n",
       "    </tr>\n",
       "    <tr>\n",
       "      <th>4</th>\n",
       "      <td>01</td>\n",
       "      <td>01</td>\n",
       "      <td>2010</td>\n",
       "    </tr>\n",
       "    <tr>\n",
       "      <th>...</th>\n",
       "      <td>...</td>\n",
       "      <td>...</td>\n",
       "      <td>...</td>\n",
       "    </tr>\n",
       "    <tr>\n",
       "      <th>7252</th>\n",
       "      <td>31</td>\n",
       "      <td>12</td>\n",
       "      <td>2019</td>\n",
       "    </tr>\n",
       "    <tr>\n",
       "      <th>7253</th>\n",
       "      <td>31</td>\n",
       "      <td>12</td>\n",
       "      <td>2020</td>\n",
       "    </tr>\n",
       "    <tr>\n",
       "      <th>7254</th>\n",
       "      <td>31</td>\n",
       "      <td>12</td>\n",
       "      <td>2021</td>\n",
       "    </tr>\n",
       "    <tr>\n",
       "      <th>7255</th>\n",
       "      <td>31</td>\n",
       "      <td>12</td>\n",
       "      <td>2022</td>\n",
       "    </tr>\n",
       "    <tr>\n",
       "      <th>7256</th>\n",
       "      <td>31</td>\n",
       "      <td>12</td>\n",
       "      <td>2023</td>\n",
       "    </tr>\n",
       "  </tbody>\n",
       "</table>\n",
       "<p>7257 rows × 3 columns</p>\n",
       "</div>"
      ],
      "text/plain": [
       "     day month  year\n",
       "0     01    01  2006\n",
       "1     01    01  2007\n",
       "2     01    01  2008\n",
       "3     01    01  2009\n",
       "4     01    01  2010\n",
       "...   ..   ...   ...\n",
       "7252  31    12  2019\n",
       "7253  31    12  2020\n",
       "7254  31    12  2021\n",
       "7255  31    12  2022\n",
       "7256  31    12  2023\n",
       "\n",
       "[7257 rows x 3 columns]"
      ]
     },
     "execution_count": 10,
     "metadata": {},
     "output_type": "execute_result"
    }
   ],
   "source": [
    "split_dates = df['date'].str.split('.', expand=True)\n",
    "split_dates.columns = ['day', 'month', 'year']\n",
    "split_dates"
   ]
  },
  {
   "cell_type": "code",
   "execution_count": 11,
   "id": "eb8c9b96d466d9a1",
   "metadata": {
    "ExecuteTime": {
     "end_time": "2024-12-17T22:28:19.160832Z",
     "start_time": "2024-12-17T22:28:19.157077Z"
    }
   },
   "outputs": [],
   "source": [
    "df[['day', 'month', 'year']] = split_dates\n",
    "del df['date']"
   ]
  },
  {
   "cell_type": "code",
   "execution_count": 12,
   "id": "66332b068052bf04",
   "metadata": {
    "ExecuteTime": {
     "end_time": "2024-12-17T22:28:19.188030Z",
     "start_time": "2024-12-17T22:28:19.183692Z"
    }
   },
   "outputs": [],
   "source": [
    "df['day'] = df['day'].astype(np.int64)\n",
    "df['month'] = df['month'].astype(np.int64)\n",
    "df['year'] = df['year'].astype(np.int64)"
   ]
  },
  {
   "cell_type": "code",
   "execution_count": 13,
   "id": "d8a338befb6376cc",
   "metadata": {
    "ExecuteTime": {
     "end_time": "2024-12-17T22:28:19.214039Z",
     "start_time": "2024-12-17T22:28:19.210035Z"
    }
   },
   "outputs": [],
   "source": [
    "# Предположим, что датафрейм называется df\n",
    "# Целевая переменная\n",
    "y = df['temperature']\n",
    "\n",
    "# Признаки\n",
    "X = df[['day', 'month', 'year']]\n",
    "\n",
    "# Разделим данные на обучающую и тестовую выборки\n",
    "X_train, X_test, y_train, y_test = train_test_split(X, y, test_size=0.2, random_state=42)"
   ]
  },
  {
   "cell_type": "code",
   "execution_count": 14,
   "id": "46cc563ba331b351",
   "metadata": {
    "ExecuteTime": {
     "end_time": "2024-12-17T22:28:25.872913Z",
     "start_time": "2024-12-17T22:28:19.236073Z"
    }
   },
   "outputs": [
    {
     "name": "stdout",
     "output_type": "stream",
     "text": [
      "Fitting 3 folds for each of 72 candidates, totalling 216 fits\n",
      "[CV] END max_depth=None, min_samples_split=2, n_estimators=50; total time=   0.3s\n",
      "[CV] END max_depth=None, min_samples_split=10, n_estimators=50; total time=   0.1s\n",
      "[CV] END max_depth=None, min_samples_split=10, n_estimators=50; total time=   0.2s\n",
      "[CV] END max_depth=None, min_samples_split=10, n_estimators=50; total time=   0.1s\n",
      "[CV] END max_depth=None, min_samples_split=5, n_estimators=50; total time=   0.2s\n",
      "[CV] END max_depth=None, min_samples_split=5, n_estimators=100; total time=   0.4s\n",
      "[CV] END max_depth=None, min_samples_split=5, n_estimators=50; total time=   0.2s\n",
      "[CV] END max_depth=None, min_samples_split=5, n_estimators=50; total time=   0.1s\n",
      "[CV] END max_depth=None, min_samples_split=2, n_estimators=50; total time=   0.3s\n",
      "[CV] END max_depth=None, min_samples_split=10, n_estimators=100; total time=   0.4s\n",
      "[CV] END max_depth=None, min_samples_split=2, n_estimators=100; total time=   0.4s\n",
      "[CV] END ..max_depth=5, min_samples_split=2, n_estimators=50; total time=   0.1s\n",
      "[CV] END max_depth=None, min_samples_split=2, n_estimators=50; total time=   0.3s\n",
      "[CV] END ..max_depth=5, min_samples_split=2, n_estimators=50; total time=   0.1s\n",
      "[CV] END max_depth=None, min_samples_split=5, n_estimators=100; total time=   0.4s\n",
      "[CV] END max_depth=None, min_samples_split=5, n_estimators=100; total time=   0.4s\n",
      "[CV] END max_depth=None, min_samples_split=10, n_estimators=100; total time=   0.3s\n",
      "[CV] END max_depth=None, min_samples_split=2, n_estimators=150; total time=   0.6s\n",
      "[CV] END max_depth=None, min_samples_split=2, n_estimators=100; total time=   0.5s\n",
      "[CV] END ..max_depth=5, min_samples_split=2, n_estimators=50; total time=   0.1s\n",
      "[CV] END max_depth=None, min_samples_split=5, n_estimators=150; total time=   0.5s\n",
      "[CV] END max_depth=None, min_samples_split=10, n_estimators=100; total time=   0.5s\n",
      "[CV] END .max_depth=5, min_samples_split=2, n_estimators=100; total time=   0.2s\n",
      "[CV] END .max_depth=5, min_samples_split=2, n_estimators=100; total time=   0.1s\n",
      "[CV] END ..max_depth=5, min_samples_split=5, n_estimators=50; total time=   0.1s\n",
      "[CV] END ..max_depth=5, min_samples_split=5, n_estimators=50; total time=   0.1s\n",
      "[CV] END ..max_depth=5, min_samples_split=5, n_estimators=50; total time=   0.1s\n",
      "[CV] END max_depth=None, min_samples_split=2, n_estimators=150; total time=   0.7s\n",
      "[CV] END max_depth=None, min_samples_split=10, n_estimators=150; total time=   0.4s\n",
      "[CV] END max_depth=None, min_samples_split=5, n_estimators=150; total time=   0.4s\n",
      "[CV] END .max_depth=5, min_samples_split=2, n_estimators=100; total time=   0.2s\n",
      "[CV] END max_depth=None, min_samples_split=2, n_estimators=100; total time=   0.4s\n",
      "[CV] END .max_depth=5, min_samples_split=2, n_estimators=150; total time=   0.2s\n",
      "[CV] END max_depth=None, min_samples_split=5, n_estimators=200; total time=   0.6s\n",
      "[CV] END .max_depth=5, min_samples_split=5, n_estimators=100; total time=   0.1s\n",
      "[CV] END max_depth=None, min_samples_split=10, n_estimators=150; total time=   0.5s\n",
      "[CV] END max_depth=None, min_samples_split=5, n_estimators=200; total time=   0.7s\n",
      "[CV] END .max_depth=5, min_samples_split=10, n_estimators=50; total time=   0.1s\n",
      "[CV] END max_depth=None, min_samples_split=2, n_estimators=200; total time=   0.8s\n",
      "[CV] END .max_depth=5, min_samples_split=5, n_estimators=100; total time=   0.1s\n",
      "[CV] END .max_depth=5, min_samples_split=2, n_estimators=150; total time=   0.3s\n",
      "[CV] END .max_depth=5, min_samples_split=5, n_estimators=100; total time=   0.2s\n",
      "[CV] END .max_depth=5, min_samples_split=10, n_estimators=50; total time=   0.1s\n",
      "[CV] END .max_depth=5, min_samples_split=10, n_estimators=50; total time=   0.1s\n",
      "[CV] END max_depth=None, min_samples_split=10, n_estimators=150; total time=   0.7s\n",
      "[CV] END .max_depth=5, min_samples_split=5, n_estimators=150; total time=   0.2s\n",
      "[CV] END max_depth=5, min_samples_split=10, n_estimators=100; total time=   0.1s\n",
      "[CV] END max_depth=None, min_samples_split=10, n_estimators=200; total time=   0.6s\n",
      "[CV] END .max_depth=5, min_samples_split=5, n_estimators=150; total time=   0.2s\n",
      "[CV] END max_depth=5, min_samples_split=10, n_estimators=100; total time=   0.1s\n",
      "[CV] END max_depth=5, min_samples_split=10, n_estimators=100; total time=   0.1s\n",
      "[CV] END max_depth=None, min_samples_split=5, n_estimators=200; total time=   0.6s\n",
      "[CV] END .max_depth=5, min_samples_split=2, n_estimators=200; total time=   0.4s\n",
      "[CV] END .max_depth=5, min_samples_split=2, n_estimators=200; total time=   0.4s\n",
      "[CV] END .max_depth=5, min_samples_split=5, n_estimators=200; total time=   0.3s\n",
      "[CV] END .max_depth=5, min_samples_split=5, n_estimators=150; total time=   0.3s\n",
      "[CV] END .max_depth=10, min_samples_split=2, n_estimators=50; total time=   0.1s\n",
      "[CV] END max_depth=5, min_samples_split=10, n_estimators=150; total time=   0.2s\n",
      "[CV] END max_depth=None, min_samples_split=10, n_estimators=200; total time=   0.6s\n",
      "[CV] END max_depth=5, min_samples_split=10, n_estimators=150; total time=   0.2s\n",
      "[CV] END .max_depth=5, min_samples_split=5, n_estimators=200; total time=   0.3s\n",
      "[CV] END .max_depth=10, min_samples_split=2, n_estimators=50; total time=   0.2s\n",
      "[CV] END .max_depth=10, min_samples_split=2, n_estimators=50; total time=   0.2s\n",
      "[CV] END .max_depth=5, min_samples_split=2, n_estimators=200; total time=   0.5s\n",
      "[CV] END max_depth=None, min_samples_split=10, n_estimators=200; total time=   0.7s\n",
      "[CV] END .max_depth=10, min_samples_split=5, n_estimators=50; total time=   0.1s\n",
      "[CV] END max_depth=5, min_samples_split=10, n_estimators=150; total time=   0.3s\n",
      "[CV] END .max_depth=10, min_samples_split=5, n_estimators=50; total time=   0.1s\n",
      "[CV] END .max_depth=10, min_samples_split=5, n_estimators=50; total time=   0.1s\n",
      "[CV] END .max_depth=5, min_samples_split=2, n_estimators=150; total time=   0.5s\n",
      "[CV] END max_depth=5, min_samples_split=10, n_estimators=200; total time=   0.3s\n",
      "[CV] END max_depth=5, min_samples_split=10, n_estimators=200; total time=   0.3s\n",
      "[CV] END max_depth=5, min_samples_split=10, n_estimators=200; total time=   0.3s\n",
      "[CV] END max_depth=10, min_samples_split=2, n_estimators=100; total time=   0.2s\n",
      "[CV] END max_depth=None, min_samples_split=2, n_estimators=150; total time=   0.7s\n",
      "[CV] END max_depth=10, min_samples_split=2, n_estimators=100; total time=   0.3s\n",
      "[CV] END .max_depth=5, min_samples_split=5, n_estimators=200; total time=   0.5s\n",
      "[CV] END max_depth=10, min_samples_split=10, n_estimators=50; total time=   0.1s\n",
      "[CV] END max_depth=10, min_samples_split=10, n_estimators=50; total time=   0.1s\n",
      "[CV] END max_depth=10, min_samples_split=5, n_estimators=100; total time=   0.2s\n",
      "[CV] END max_depth=10, min_samples_split=10, n_estimators=50; total time=   0.1s\n",
      "[CV] END max_depth=None, min_samples_split=2, n_estimators=200; total time=   1.0s\n",
      "[CV] END max_depth=10, min_samples_split=5, n_estimators=100; total time=   0.2s\n",
      "[CV] END max_depth=None, min_samples_split=2, n_estimators=200; total time=   1.0s\n",
      "[CV] END max_depth=10, min_samples_split=2, n_estimators=100; total time=   0.4s\n",
      "[CV] END max_depth=10, min_samples_split=10, n_estimators=100; total time=   0.2s\n",
      "[CV] END max_depth=10, min_samples_split=10, n_estimators=100; total time=   0.2s\n",
      "[CV] END max_depth=None, min_samples_split=5, n_estimators=150; total time=   0.9s\n",
      "[CV] END max_depth=10, min_samples_split=2, n_estimators=150; total time=   0.4s\n",
      "[CV] END max_depth=10, min_samples_split=2, n_estimators=150; total time=   0.4s\n",
      "[CV] END max_depth=10, min_samples_split=5, n_estimators=150; total time=   0.3s\n",
      "[CV] END .max_depth=15, min_samples_split=2, n_estimators=50; total time=   0.2s\n",
      "[CV] END max_depth=10, min_samples_split=5, n_estimators=150; total time=   0.4s\n",
      "[CV] END max_depth=10, min_samples_split=2, n_estimators=200; total time=   0.5s\n",
      "[CV] END max_depth=10, min_samples_split=5, n_estimators=100; total time=   0.4s\n",
      "[CV] END max_depth=10, min_samples_split=10, n_estimators=150; total time=   0.3s\n",
      "[CV] END max_depth=10, min_samples_split=5, n_estimators=150; total time=   0.4s\n",
      "[CV] END max_depth=10, min_samples_split=2, n_estimators=200; total time=   0.6s\n",
      "[CV] END max_depth=10, min_samples_split=2, n_estimators=150; total time=   0.6s\n",
      "[CV] END .max_depth=15, min_samples_split=5, n_estimators=50; total time=   0.1s\n",
      "[CV] END max_depth=10, min_samples_split=10, n_estimators=100; total time=   0.4s\n",
      "[CV] END .max_depth=15, min_samples_split=5, n_estimators=50; total time=   0.2s\n",
      "[CV] END .max_depth=15, min_samples_split=5, n_estimators=50; total time=   0.2s\n",
      "[CV] END .max_depth=15, min_samples_split=2, n_estimators=50; total time=   0.3s\n",
      "[CV] END .max_depth=15, min_samples_split=2, n_estimators=50; total time=   0.3s\n",
      "[CV] END max_depth=10, min_samples_split=10, n_estimators=150; total time=   0.4s\n",
      "[CV] END max_depth=10, min_samples_split=2, n_estimators=200; total time=   0.6s\n",
      "[CV] END max_depth=10, min_samples_split=10, n_estimators=200; total time=   0.5s\n",
      "[CV] END max_depth=15, min_samples_split=2, n_estimators=100; total time=   0.4s\n",
      "[CV] END max_depth=10, min_samples_split=10, n_estimators=200; total time=   0.4s\n",
      "[CV] END max_depth=10, min_samples_split=10, n_estimators=150; total time=   0.5s\n",
      "[CV] END max_depth=10, min_samples_split=5, n_estimators=200; total time=   0.6s\n",
      "[CV] END max_depth=10, min_samples_split=10, n_estimators=200; total time=   0.5s\n",
      "[CV] END max_depth=15, min_samples_split=2, n_estimators=100; total time=   0.5s\n",
      "[CV] END max_depth=15, min_samples_split=10, n_estimators=50; total time=   0.1s\n",
      "[CV] END max_depth=15, min_samples_split=10, n_estimators=50; total time=   0.2s\n",
      "[CV] END max_depth=15, min_samples_split=5, n_estimators=100; total time=   0.3s\n",
      "[CV] END max_depth=15, min_samples_split=2, n_estimators=100; total time=   0.5s\n",
      "[CV] END max_depth=10, min_samples_split=5, n_estimators=200; total time=   0.7s\n",
      "[CV] END max_depth=15, min_samples_split=5, n_estimators=100; total time=   0.3s\n",
      "[CV] END max_depth=15, min_samples_split=5, n_estimators=100; total time=   0.4s\n",
      "[CV] END max_depth=15, min_samples_split=10, n_estimators=50; total time=   0.3s\n",
      "[CV] END .max_depth=20, min_samples_split=2, n_estimators=50; total time=   0.2s\n",
      "[CV] END max_depth=15, min_samples_split=2, n_estimators=150; total time=   0.6s\n",
      "[CV] END max_depth=15, min_samples_split=10, n_estimators=100; total time=   0.3s\n",
      "[CV] END max_depth=15, min_samples_split=5, n_estimators=150; total time=   0.5s\n",
      "[CV] END max_depth=15, min_samples_split=2, n_estimators=150; total time=   0.7s\n",
      "[CV] END max_depth=15, min_samples_split=5, n_estimators=150; total time=   0.5s\n",
      "[CV] END .max_depth=20, min_samples_split=2, n_estimators=50; total time=   0.3s\n",
      "[CV] END max_depth=15, min_samples_split=10, n_estimators=100; total time=   0.4s\n",
      "[CV] END .max_depth=20, min_samples_split=2, n_estimators=50; total time=   0.3s\n",
      "[CV] END max_depth=15, min_samples_split=10, n_estimators=150; total time=   0.4s\n",
      "[CV] END max_depth=10, min_samples_split=5, n_estimators=200; total time=   1.0s\n",
      "[CV] END max_depth=15, min_samples_split=2, n_estimators=150; total time=   0.7s\n",
      "[CV] END max_depth=15, min_samples_split=10, n_estimators=100; total time=   0.5s\n",
      "[CV] END .max_depth=20, min_samples_split=5, n_estimators=50; total time=   0.1s\n",
      "[CV] END max_depth=20, min_samples_split=2, n_estimators=100; total time=   0.4s\n",
      "[CV] END max_depth=15, min_samples_split=10, n_estimators=150; total time=   0.5s\n",
      "[CV] END max_depth=15, min_samples_split=10, n_estimators=200; total time=   0.5s\n",
      "[CV] END .max_depth=20, min_samples_split=5, n_estimators=50; total time=   0.2s\n",
      "[CV] END max_depth=15, min_samples_split=10, n_estimators=150; total time=   0.5s\n",
      "[CV] END max_depth=15, min_samples_split=5, n_estimators=150; total time=   0.7s\n",
      "[CV] END max_depth=15, min_samples_split=10, n_estimators=200; total time=   0.5s\n",
      "[CV] END max_depth=15, min_samples_split=5, n_estimators=200; total time=   0.7s\n",
      "[CV] END max_depth=15, min_samples_split=2, n_estimators=200; total time=   0.8s\n",
      "[CV] END max_depth=15, min_samples_split=10, n_estimators=200; total time=   0.6s\n",
      "[CV] END max_depth=20, min_samples_split=2, n_estimators=100; total time=   0.5s\n",
      "[CV] END .max_depth=20, min_samples_split=5, n_estimators=50; total time=   0.3s[CV] END max_depth=20, min_samples_split=10, n_estimators=50; total time=   0.1s\n",
      "\n",
      "[CV] END max_depth=20, min_samples_split=5, n_estimators=100; total time=   0.3s\n",
      "[CV] END max_depth=20, min_samples_split=5, n_estimators=100; total time=   0.3s\n",
      "[CV] END max_depth=20, min_samples_split=2, n_estimators=100; total time=   0.6s\n",
      "[CV] END max_depth=20, min_samples_split=10, n_estimators=50; total time=   0.2s\n",
      "[CV] END max_depth=20, min_samples_split=10, n_estimators=50; total time=   0.2s\n",
      "[CV] END max_depth=20, min_samples_split=2, n_estimators=150; total time=   0.6s\n",
      "[CV] END max_depth=20, min_samples_split=10, n_estimators=100; total time=   0.3s\n",
      "[CV] END max_depth=20, min_samples_split=5, n_estimators=150; total time=   0.5s\n",
      "[CV] END max_depth=15, min_samples_split=5, n_estimators=200; total time=   0.9s\n",
      "[CV] END max_depth=15, min_samples_split=2, n_estimators=200; total time=   1.1s\n",
      "[CV] END .max_depth=25, min_samples_split=2, n_estimators=50; total time=   0.2s\n",
      "[CV] END max_depth=20, min_samples_split=2, n_estimators=150; total time=   0.7s\n",
      "[CV] END max_depth=20, min_samples_split=10, n_estimators=100; total time=   0.4s\n",
      "[CV] END max_depth=20, min_samples_split=10, n_estimators=100; total time=   0.4s\n",
      "[CV] END max_depth=20, min_samples_split=5, n_estimators=100; total time=   0.5s\n",
      "[CV] END max_depth=15, min_samples_split=2, n_estimators=200; total time=   1.2s\n",
      "[CV] END .max_depth=25, min_samples_split=2, n_estimators=50; total time=   0.2s\n",
      "[CV] END .max_depth=25, min_samples_split=2, n_estimators=50; total time=   0.2s\n",
      "[CV] END max_depth=20, min_samples_split=2, n_estimators=150; total time=   0.8s\n",
      "[CV] END max_depth=15, min_samples_split=5, n_estimators=200; total time=   1.0s\n",
      "[CV] END max_depth=20, min_samples_split=10, n_estimators=150; total time=   0.4s\n",
      "[CV] END max_depth=20, min_samples_split=5, n_estimators=150; total time=   0.6s\n",
      "[CV] END max_depth=20, min_samples_split=2, n_estimators=200; total time=   0.7s\n",
      "[CV] END max_depth=20, min_samples_split=10, n_estimators=150; total time=   0.4s\n",
      "[CV] END .max_depth=25, min_samples_split=5, n_estimators=50; total time=   0.1s\n",
      "[CV] END max_depth=20, min_samples_split=5, n_estimators=200; total time=   0.6s\n",
      "[CV] END .max_depth=25, min_samples_split=5, n_estimators=50; total time=   0.2s\n",
      "[CV] END max_depth=20, min_samples_split=2, n_estimators=200; total time=   0.8s\n",
      "[CV] END .max_depth=25, min_samples_split=5, n_estimators=50; total time=   0.2s\n",
      "[CV] END max_depth=20, min_samples_split=10, n_estimators=150; total time=   0.5s\n",
      "[CV] END max_depth=20, min_samples_split=10, n_estimators=200; total time=   0.5s\n",
      "[CV] END max_depth=20, min_samples_split=10, n_estimators=200; total time=   0.5s\n",
      "[CV] END max_depth=20, min_samples_split=2, n_estimators=200; total time=   0.9s\n",
      "[CV] END max_depth=20, min_samples_split=5, n_estimators=150; total time=   0.7s\n",
      "[CV] END max_depth=20, min_samples_split=10, n_estimators=200; total time=   0.5s\n",
      "[CV] END max_depth=25, min_samples_split=10, n_estimators=50; total time=   0.1s\n",
      "[CV] END max_depth=20, min_samples_split=5, n_estimators=200; total time=   0.7s\n",
      "[CV] END max_depth=25, min_samples_split=10, n_estimators=50; total time=   0.1s\n",
      "[CV] END max_depth=25, min_samples_split=2, n_estimators=100; total time=   0.5s\n",
      "[CV] END max_depth=25, min_samples_split=10, n_estimators=50; total time=   0.2s\n",
      "[CV] END max_depth=25, min_samples_split=2, n_estimators=100; total time=   0.6s\n",
      "[CV] END max_depth=25, min_samples_split=2, n_estimators=100; total time=   0.5s\n",
      "[CV] END max_depth=25, min_samples_split=5, n_estimators=100; total time=   0.4s\n",
      "[CV] END max_depth=25, min_samples_split=5, n_estimators=100; total time=   0.4s\n",
      "[CV] END max_depth=25, min_samples_split=10, n_estimators=100; total time=   0.3s\n",
      "[CV] END max_depth=20, min_samples_split=5, n_estimators=200; total time=   0.9s\n",
      "[CV] END max_depth=25, min_samples_split=10, n_estimators=100; total time=   0.3s\n",
      "[CV] END max_depth=25, min_samples_split=2, n_estimators=150; total time=   0.6s\n",
      "[CV] END max_depth=25, min_samples_split=5, n_estimators=100; total time=   0.5s\n",
      "[CV] END max_depth=25, min_samples_split=2, n_estimators=150; total time=   0.6s\n",
      "[CV] END max_depth=25, min_samples_split=10, n_estimators=100; total time=   0.3s\n",
      "[CV] END max_depth=25, min_samples_split=5, n_estimators=150; total time=   0.5s\n",
      "[CV] END max_depth=25, min_samples_split=2, n_estimators=150; total time=   0.6s\n",
      "[CV] END max_depth=25, min_samples_split=10, n_estimators=150; total time=   0.4s\n",
      "[CV] END max_depth=25, min_samples_split=10, n_estimators=150; total time=   0.4s\n",
      "[CV] END max_depth=25, min_samples_split=10, n_estimators=150; total time=   0.4s\n",
      "[CV] END max_depth=25, min_samples_split=5, n_estimators=150; total time=   0.6s\n",
      "[CV] END max_depth=25, min_samples_split=5, n_estimators=150; total time=   0.6s\n",
      "[CV] END max_depth=25, min_samples_split=5, n_estimators=200; total time=   0.6s\n",
      "[CV] END max_depth=25, min_samples_split=5, n_estimators=200; total time=   0.6s\n",
      "[CV] END max_depth=25, min_samples_split=2, n_estimators=200; total time=   0.8s\n",
      "[CV] END max_depth=25, min_samples_split=10, n_estimators=200; total time=   0.5s\n",
      "[CV] END max_depth=25, min_samples_split=10, n_estimators=200; total time=   0.6s\n",
      "[CV] END max_depth=25, min_samples_split=10, n_estimators=200; total time=   0.6s\n",
      "[CV] END max_depth=25, min_samples_split=5, n_estimators=200; total time=   0.7s\n",
      "[CV] END max_depth=25, min_samples_split=2, n_estimators=200; total time=   0.9s\n",
      "[CV] END max_depth=25, min_samples_split=2, n_estimators=200; total time=   1.0s\n",
      "{'max_depth': 20, 'min_samples_split': 2, 'n_estimators': 200}\n",
      "Best RMSE: 2.5540271249727358\n"
     ]
    }
   ],
   "source": [
    "from sklearn.model_selection import GridSearchCV\n",
    "\n",
    "# Задаем параметры для перебора\n",
    "param_grid = {\n",
    "    'n_estimators': [50, 100, 150, 200],\n",
    "    'max_depth': [None, 5, 10, 15, 20, 25],\n",
    "    'min_samples_split': [2, 5, 10]\n",
    "}\n",
    "\n",
    "# GridSearch\n",
    "grid_search = GridSearchCV(estimator=RandomForestRegressor(random_state=42),\n",
    "                           param_grid=param_grid,\n",
    "                           cv=3, scoring='neg_mean_squared_error', verbose=2, n_jobs=-1)\n",
    "grid_search.fit(X_train, y_train)\n",
    "\n",
    "# Лучшая модель\n",
    "best_model = grid_search.best_estimator_\n",
    "print(grid_search.best_params_)\n",
    "\n",
    "# Оценка лучшей модели\n",
    "y_pred_best = best_model.predict(X_test)\n",
    "rmse_best = np.sqrt(mean_squared_error(y_test, y_pred_best))\n",
    "print(f\"Best RMSE: {rmse_best}\")\n"
   ]
  },
  {
   "cell_type": "code",
   "execution_count": 15,
   "id": "fb04fa0ed1ec7c67",
   "metadata": {
    "ExecuteTime": {
     "end_time": "2024-12-17T22:28:26.788300Z",
     "start_time": "2024-12-17T22:28:25.882047Z"
    }
   },
   "outputs": [
    {
     "name": "stdout",
     "output_type": "stream",
     "text": [
      "RMSE: 2.5540271249727358\n"
     ]
    }
   ],
   "source": [
    "# Создаем модель случайного леса\n",
    "model = RandomForestRegressor(n_estimators=200, min_samples_split=2, max_depth=20, random_state=42)\n",
    "\n",
    "# Обучаем модель\n",
    "model.fit(X_train, y_train)\n",
    "\n",
    "# Предсказания на тестовой выборке\n",
    "y_pred = model.predict(X_test)\n",
    "\n",
    "# Оценка качества модели (например, RMSE)\n",
    "rmse = np.sqrt(mean_squared_error(y_test, y_pred))\n",
    "print(f\"RMSE: {rmse}\")"
   ]
  },
  {
   "cell_type": "code",
   "execution_count": 16,
   "id": "5f9aabf5843b45a5",
   "metadata": {
    "ExecuteTime": {
     "end_time": "2024-12-17T22:28:26.807346Z",
     "start_time": "2024-12-17T22:28:26.798066Z"
    }
   },
   "outputs": [
    {
     "data": {
      "text/plain": [
       "array([-5.698125])"
      ]
     },
     "execution_count": 16,
     "metadata": {},
     "output_type": "execute_result"
    }
   ],
   "source": [
    "pred_d = pd.DataFrame(\n",
    "    {\n",
    "        'day': [13],\n",
    "        'month': [2],\n",
    "        'year': [2025],\n",
    "    }\n",
    ")\n",
    "model.predict(pred_d)"
   ]
  },
  {
   "cell_type": "markdown",
   "id": "b0d3c306483236be",
   "metadata": {},
   "source": [
    "```\n",
    "\n",
    "# Сохраняем модель в файл\n",
    "joblib.dump(model, 'random_forest_model.joblib')\n",
    "\n",
    "# Загружаем сохранённую модель\n",
    "loaded_model = joblib.load('random_forest_model.joblib')\n",
    "\n",
    "# Делаем предсказание на тестовом наборе\n",
    "predictions = loaded_model.predict(X_test)\n",
    "\n",
    "```"
   ]
  },
  {
   "cell_type": "code",
   "execution_count": 17,
   "id": "e3e092be6357fe68",
   "metadata": {
    "ExecuteTime": {
     "end_time": "2024-12-17T22:47:09.397084Z",
     "start_time": "2024-12-17T22:47:09.345164Z"
    }
   },
   "outputs": [
    {
     "data": {
      "text/plain": [
       "['./random_forest_model/random_forest_model.joblib']"
      ]
     },
     "execution_count": 17,
     "metadata": {},
     "output_type": "execute_result"
    }
   ],
   "source": [
    "# save model\n",
    "joblib.dump(model, './random_forest_model/random_forest_model.joblib')\n"
   ]
  },
  {
   "cell_type": "code",
   "execution_count": 20,
   "id": "fde8009de0a1592",
   "metadata": {
    "ExecuteTime": {
     "end_time": "2024-12-17T22:18:05.407041Z",
     "start_time": "2024-12-17T22:18:02.475462Z"
    }
   },
   "outputs": [],
   "source": [
    "import joblib\n",
    "# Загружаем сохранённую модель\n",
    "loaded_model = joblib.load('./random_forest_model/random_forest_model.joblib')"
   ]
  },
  {
   "cell_type": "code",
   "execution_count": 21,
   "id": "7aaafb350dfb74ce",
   "metadata": {
    "ExecuteTime": {
     "end_time": "2024-12-17T22:18:37.317479Z",
     "start_time": "2024-12-17T22:18:37.306615Z"
    }
   },
   "outputs": [
    {
     "data": {
      "text/plain": [
       "array([17.282253])"
      ]
     },
     "execution_count": 21,
     "metadata": {},
     "output_type": "execute_result"
    }
   ],
   "source": [
    "import pandas as pd\n",
    "\n",
    "pred_d = pd.DataFrame(\n",
    "    {\n",
    "        'day': [14],\n",
    "        'month': [8],\n",
    "        'year': [2015],\n",
    "    }\n",
    ")\n",
    "# Делаем предсказание на тестовом наборе\n",
    "predictions = loaded_model.predict(pred_d)\n",
    "predictions\n"
   ]
  }
 ],
 "metadata": {
  "kernelspec": {
   "display_name": "base",
   "language": "python",
   "name": "python3"
  },
  "language_info": {
   "codemirror_mode": {
    "name": "ipython",
    "version": 3
   },
   "file_extension": ".py",
   "mimetype": "text/x-python",
   "name": "python",
   "nbconvert_exporter": "python",
   "pygments_lexer": "ipython3",
   "version": "3.12.7"
  }
 },
 "nbformat": 4,
 "nbformat_minor": 5
}
